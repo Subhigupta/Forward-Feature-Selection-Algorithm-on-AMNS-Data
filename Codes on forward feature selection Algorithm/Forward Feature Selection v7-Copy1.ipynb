{
 "cells": [
  {
   "cell_type": "code",
   "execution_count": 6,
   "id": "8706d825",
   "metadata": {},
   "outputs": [
    {
     "name": "stdout",
     "output_type": "stream",
     "text": [
      "GPU Available: []\n",
      "CPU Available: [PhysicalDevice(name='/physical_device:CPU:0', device_type='CPU')]\n"
     ]
    },
    {
     "name": "stderr",
     "output_type": "stream",
     "text": [
      "C:\\Users\\subhi\\AppData\\Local\\Temp\\ipykernel_9204\\3053370593.py:59: PerformanceWarning: DataFrame is highly fragmented.  This is usually the result of calling `frame.insert` many times, which has poor performance.  Consider joining all columns at once using pd.concat(axis=1) instead. To get a de-fragmented frame, use `newframe = frame.copy()`\n",
      "  meandata[variable+'MEAN']=mean_array\n",
      "C:\\Users\\subhi\\AppData\\Local\\Temp\\ipykernel_9204\\3053370593.py:59: PerformanceWarning: DataFrame is highly fragmented.  This is usually the result of calling `frame.insert` many times, which has poor performance.  Consider joining all columns at once using pd.concat(axis=1) instead. To get a de-fragmented frame, use `newframe = frame.copy()`\n",
      "  meandata[variable+'MEAN']=mean_array\n",
      "C:\\Users\\subhi\\AppData\\Local\\Temp\\ipykernel_9204\\3053370593.py:59: PerformanceWarning: DataFrame is highly fragmented.  This is usually the result of calling `frame.insert` many times, which has poor performance.  Consider joining all columns at once using pd.concat(axis=1) instead. To get a de-fragmented frame, use `newframe = frame.copy()`\n",
      "  meandata[variable+'MEAN']=mean_array\n",
      "C:\\Users\\subhi\\AppData\\Local\\Temp\\ipykernel_9204\\3053370593.py:59: PerformanceWarning: DataFrame is highly fragmented.  This is usually the result of calling `frame.insert` many times, which has poor performance.  Consider joining all columns at once using pd.concat(axis=1) instead. To get a de-fragmented frame, use `newframe = frame.copy()`\n",
      "  meandata[variable+'MEAN']=mean_array\n",
      "C:\\Users\\subhi\\AppData\\Local\\Temp\\ipykernel_9204\\3053370593.py:59: PerformanceWarning: DataFrame is highly fragmented.  This is usually the result of calling `frame.insert` many times, which has poor performance.  Consider joining all columns at once using pd.concat(axis=1) instead. To get a de-fragmented frame, use `newframe = frame.copy()`\n",
      "  meandata[variable+'MEAN']=mean_array\n",
      "C:\\Users\\subhi\\AppData\\Local\\Temp\\ipykernel_9204\\3053370593.py:59: PerformanceWarning: DataFrame is highly fragmented.  This is usually the result of calling `frame.insert` many times, which has poor performance.  Consider joining all columns at once using pd.concat(axis=1) instead. To get a de-fragmented frame, use `newframe = frame.copy()`\n",
      "  meandata[variable+'MEAN']=mean_array\n",
      "C:\\Users\\subhi\\AppData\\Local\\Temp\\ipykernel_9204\\3053370593.py:59: PerformanceWarning: DataFrame is highly fragmented.  This is usually the result of calling `frame.insert` many times, which has poor performance.  Consider joining all columns at once using pd.concat(axis=1) instead. To get a de-fragmented frame, use `newframe = frame.copy()`\n",
      "  meandata[variable+'MEAN']=mean_array\n",
      "C:\\Users\\subhi\\AppData\\Local\\Temp\\ipykernel_9204\\3053370593.py:59: PerformanceWarning: DataFrame is highly fragmented.  This is usually the result of calling `frame.insert` many times, which has poor performance.  Consider joining all columns at once using pd.concat(axis=1) instead. To get a de-fragmented frame, use `newframe = frame.copy()`\n",
      "  meandata[variable+'MEAN']=mean_array\n",
      "C:\\Users\\subhi\\AppData\\Local\\Temp\\ipykernel_9204\\3053370593.py:59: PerformanceWarning: DataFrame is highly fragmented.  This is usually the result of calling `frame.insert` many times, which has poor performance.  Consider joining all columns at once using pd.concat(axis=1) instead. To get a de-fragmented frame, use `newframe = frame.copy()`\n",
      "  meandata[variable+'MEAN']=mean_array\n",
      "C:\\Users\\subhi\\AppData\\Local\\Temp\\ipykernel_9204\\3053370593.py:72: PerformanceWarning: DataFrame is highly fragmented.  This is usually the result of calling `frame.insert` many times, which has poor performance.  Consider joining all columns at once using pd.concat(axis=1) instead. To get a de-fragmented frame, use `newframe = frame.copy()`\n",
      "  meandata[\"OUTPUT\"]=op_data\n"
     ]
    }
   ],
   "source": [
    "# Giving a seed value.Apparently you may use different seed values at each stage\n",
    "seed_value= 0\n",
    "\n",
    "# 4 steps that are neeeded to be done for the code to be reproducible.\n",
    "\n",
    "# 1. Set the `PYTHONHASHSEED` environment variable at a fixed value\n",
    "import os\n",
    "os.environ['PYTHONHASHSEED']=str(seed_value)\n",
    "\n",
    "# 2. Set the `python` built-in pseudo-random generator at a fixed value\n",
    "import random\n",
    "random.seed(seed_value)\n",
    "\n",
    "# 3. Set the `numpy` pseudo-random generator at a fixed value\n",
    "import numpy as nm\n",
    "nm.random.seed(seed_value)\n",
    "\n",
    "# 4. Set the `tensorflow` pseudo-random generator at a fixed value\n",
    "import tensorflow as tf\n",
    "tf.random.set_seed(seed_value)\n",
    "\n",
    "# 5. Configure a new global `tensorflow` session\n",
    "session_conf = tf.compat.v1.ConfigProto(intra_op_parallelism_threads=1, inter_op_parallelism_threads=1)\n",
    "sess = tf.compat.v1.Session(graph=tf.compat.v1.get_default_graph(), config=session_conf)\n",
    "tf.compat.v1.keras.backend.set_session(sess)\n",
    "\n",
    "# Check GPU availability\n",
    "print(\"GPU Available:\", tf.config.list_physical_devices(\"GPU\"))\n",
    "\n",
    "# Check CPU availability\n",
    "print(\"CPU Available:\", tf.config.list_physical_devices(\"CPU\"))\n",
    "\n",
    "#Import all the necessary libraries\n",
    "import pandas as pd\n",
    "from sklearn.preprocessing import MinMaxScaler\n",
    "from sklearn.preprocessing import StandardScaler\n",
    "from sklearn.preprocessing import RobustScaler \n",
    "from keras.models import Sequential #importing Sequential Model.It uses tensorflow backend and you need to have tensorflow setup. \n",
    "from keras.layers import Dense #Importing default dense layer\n",
    "from sklearn.utils import shuffle\n",
    "from keras.regularizers import l1, l2\n",
    "from keras.optimizers import SGD\n",
    "from sklearn.metrics import accuracy_score\n",
    "import time\n",
    "from matplotlib import pyplot\n",
    "\n",
    "#Access all the necessary variables and datasets\n",
    "%store -r appended_data\n",
    "%store -r new_data\n",
    "\n",
    "df=appended_data.copy()\n",
    "\n",
    "x_axis=df.iloc[:,5:114]\n",
    "x_axis.columns\n",
    "def variable_constant(variable):\n",
    "    for row in range (0,len(new_data)): #will walk through all heat numbers\n",
    "        mean_value=nm.mean(new_data[row][1][variable])\n",
    "        mean_array.append(mean_value)\n",
    "    meandata[variable+'MEAN']=mean_array\n",
    "    \n",
    "const_selected=[]\n",
    "meandata = pd.DataFrame()\n",
    "for variable_index in range(0,len(x_axis.columns),1):\n",
    "    mean_array=[]\n",
    "    current_variable=x_axis.columns[variable_index]\n",
    "    variable_constant(current_variable)\n",
    "    const_selected.append(x_axis.columns[variable_index])\n",
    "    \n",
    "op_data=[]\n",
    "for row in range (0,len(new_data)):\n",
    "    op_data.append(new_data[row][3])\n",
    "meandata[\"OUTPUT\"]=op_data\n",
    "meandata\n",
    "\n",
    "total_features_list=meandata.columns.tolist()"
   ]
  },
  {
   "cell_type": "code",
   "execution_count": 7,
   "id": "39c89f3e",
   "metadata": {},
   "outputs": [],
   "source": [
    "def training_data(new_features,n_batch):\n",
    "    #Creating a new data\n",
    "    new_data = meandata.loc[:,new_features] # Select the features\n",
    "    new_data = pd.concat([new_data, meandata['OUTPUT']], axis=1)  # Add the 'OUTPUT' column\n",
    "    new_data = shuffle(new_data, random_state=42) #shuffling the data along with output column\n",
    "\n",
    "    ##Taking all independent variables in X\n",
    "    X=new_data.iloc[:,:-1]\n",
    "\n",
    "    #1 Splitting the new_data into train and test\n",
    "    new_total_length = X.shape[0]\n",
    "    new_train_size = int(X.shape[0] * 0.8)\n",
    "    new_test_size = X.shape[0] - new_train_size\n",
    "\n",
    "    new_train_X = X.iloc[:new_train_size, :].to_numpy().astype(nm.float32)  # 2D array\n",
    "    new_train_Y = new_data['OUTPUT'][:new_train_size].to_numpy().astype(nm.float32)  # 1D array\n",
    "\n",
    "    new_test_X = X.iloc[new_train_size:, :].to_numpy().astype(nm.float32)  # 2D array\n",
    "    new_test_Y = new_data['OUTPUT'][new_train_size:].to_numpy().astype(nm.float32)  # 1D array\n",
    "\n",
    "    new_train_Y=nm.reshape(new_train_Y,(new_train_Y.shape[0],1)) # 2D array\n",
    "\n",
    "    new_test_Y=nm.reshape(new_test_Y,(new_test_Y.shape[0],1)) # 2D array}\n",
    "\n",
    "    #2 Scaling the data\n",
    "    scaler=RobustScaler()\n",
    "    new_train_X=scaler.fit_transform(new_train_X) \n",
    "    new_test_X=scaler.transform(new_test_X)\n",
    "\n",
    "    #3 Create a new model with the updated feature set\n",
    "    new_model=Sequential() \n",
    "    new_model.add(Dense(50,input_dim=len(new_features),activation='relu',kernel_regularizer=l2(0.01),kernel_initializer='he_uniform')) # one hidden layer\n",
    "    new_model.add(Dense(1,activation='sigmoid',kernel_regularizer=l2(0.01))) #output layer\n",
    "\n",
    "    #4 Compile the new model\n",
    "    new_model.compile(loss='binary_crossentropy',optimizer=SGD(lr=0.01,momentum=0.9),metrics=['accuracy'])\n",
    "\n",
    "    #5 Train the new model\n",
    "    history=new_model.fit(new_train_X,new_train_Y,epochs=1,batch_size=n_batch,validation_data=(new_test_X,new_test_Y))\n",
    "\n",
    "    #6 Evaluate the new model\n",
    "    testPredict_probs_new=new_model.predict(new_test_X)\n",
    "    threshold = 0.5  # Adjust this threshold as needed\n",
    "    y_new_pred = (testPredict_probs_new > threshold).astype(int)\n",
    "    new_accuracy = accuracy_score(new_test_Y,y_new_pred)\n",
    "    \n",
    "    return new_accuracy,history\n",
    "    "
   ]
  },
  {
   "cell_type": "code",
   "execution_count": 8,
   "id": "16e19acc",
   "metadata": {},
   "outputs": [],
   "source": [
    "def forward_selection(n_batch):\n",
    "    # Start the timer\n",
    "    start_time = time.time()\n",
    "    \n",
    "    selected_features=[] # starting with a empty feature set\n",
    "    selected_features_accuracy=[] # for storing accuracy of selected feature\n",
    "    condition=False\n",
    "    count=0 #to know how many times my loop runs\n",
    "    accuracy=-nm.inf #starting with a very low accuracy\n",
    "    \n",
    "    while (condition==False):\n",
    "        remaining_features=[]# Remaining features will change at each iteration\n",
    "        \n",
    "        for feature in total_features_list:\n",
    "            if feature not in selected_features:\n",
    "                remaining_features.append(feature) \n",
    "                \n",
    "        temp_accuracy_store=[]\n",
    "        temp_feature_array=[]\n",
    "        last_feature=remaining_features[-1]\n",
    "        temp_model_history=[]\n",
    "        \n",
    "        for feature in remaining_features:\n",
    "            # Add one feature to the feature set\n",
    "            new_features = selected_features + [feature]\n",
    "            print(feature)\n",
    "            new_accuracy,new_model_history=training_data(new_features,n_batch)\n",
    "            temp_accuracy_store.append(new_accuracy)\n",
    "            temp_feature_array.append(feature)\n",
    "            temp_model_history.append(new_model_history)\n",
    "           \n",
    "        maximum_accuracy=max(temp_accuracy_store)\n",
    "            \n",
    "        # Check for convergene. Stopping when no improvement.\n",
    "        if maximum_accuracy<=accuracy:\n",
    "            condition=True\n",
    "            break       \n",
    "\n",
    "        # Update the baseline feature set if the accuracy score improved\n",
    "        else:\n",
    "            max_idx=nm.argmax(temp_accuracy_store)\n",
    "            accuracy=maximum_accuracy #updating the accuracy\n",
    "            selected_features.append(temp_feature_array[max_idx]) #updating the selected features\n",
    "            selected_features_accuracy.append(accuracy)\n",
    "            history=temp_model_history[max_idx]\n",
    "            count=count+1\n",
    "            # plot learning curves only for the feature set selected each time\n",
    "            pyplot.plot(history.history['accuracy'], label='train')\n",
    "            pyplot.plot(history.history['val_accuracy'], label='test')\n",
    "            pyplot.title('batch=' + str(n_batch) + ',Accuracy=' + str(round(accuracy * 100, 4)) + '\\nFeature=' + temp_feature_array[max_idx], pad=-40, fontsize='10')\n",
    "            pyplot.legend()\n",
    "            pyplot.savefig(f'learning_curves_iteration{count}.png')\n",
    "            pyplot.clf()\n",
    "            \n",
    "    # Stop the timer and calculate the elapsed time\n",
    "    end_time = time.time()\n",
    "    training_time = end_time - start_time       \n",
    "    return selected_features, selected_features_accuracy, training_time,temp_accuracy_store,temp_model_history,history"
   ]
  },
  {
   "cell_type": "code",
   "execution_count": 9,
   "id": "b1659a72",
   "metadata": {},
   "outputs": [
    {
     "name": "stdout",
     "output_type": "stream",
     "text": [
      "SPEEDMEAN\n"
     ]
    },
    {
     "name": "stderr",
     "output_type": "stream",
     "text": [
      "C:\\Users\\subhi\\anaconda3\\envs\\tensorflow\\lib\\site-packages\\keras\\optimizers\\optimizer_v2\\gradient_descent.py:114: UserWarning: The `lr` argument is deprecated, use `learning_rate` instead.\n",
      "  super().__init__(name, **kwargs)\n"
     ]
    },
    {
     "name": "stdout",
     "output_type": "stream",
     "text": [
      "1/1 [==============================] - 1s 675ms/step - loss: 1.7611 - accuracy: 0.5191 - val_loss: 1.7717 - val_accuracy: 0.4706\n",
      "4/4 [==============================] - 0s 0s/step\n",
      "STOPPERMEAN\n"
     ]
    },
    {
     "name": "stderr",
     "output_type": "stream",
     "text": [
      "C:\\Users\\subhi\\anaconda3\\envs\\tensorflow\\lib\\site-packages\\keras\\optimizers\\optimizer_v2\\gradient_descent.py:114: UserWarning: The `lr` argument is deprecated, use `learning_rate` instead.\n",
      "  super().__init__(name, **kwargs)\n"
     ]
    },
    {
     "name": "stdout",
     "output_type": "stream",
     "text": [
      "1/1 [==============================] - 0s 440ms/step - loss: 1.7100 - accuracy: 0.5191 - val_loss: 1.7445 - val_accuracy: 0.4706\n",
      "4/4 [==============================] - 0s 5ms/step\n",
      "TUNDISHWEIGHTMEAN\n"
     ]
    },
    {
     "name": "stderr",
     "output_type": "stream",
     "text": [
      "C:\\Users\\subhi\\anaconda3\\envs\\tensorflow\\lib\\site-packages\\keras\\optimizers\\optimizer_v2\\gradient_descent.py:114: UserWarning: The `lr` argument is deprecated, use `learning_rate` instead.\n",
      "  super().__init__(name, **kwargs)\n"
     ]
    },
    {
     "name": "stdout",
     "output_type": "stream",
     "text": [
      "1/1 [==============================] - 0s 471ms/step - loss: 2.1282 - accuracy: 0.4809 - val_loss: 2.1189 - val_accuracy: 0.5294\n",
      "4/4 [==============================] - 0s 6ms/step\n",
      "TUNDISHTEMPERATUREMEAN\n"
     ]
    },
    {
     "name": "stderr",
     "output_type": "stream",
     "text": [
      "C:\\Users\\subhi\\anaconda3\\envs\\tensorflow\\lib\\site-packages\\keras\\optimizers\\optimizer_v2\\gradient_descent.py:114: UserWarning: The `lr` argument is deprecated, use `learning_rate` instead.\n",
      "  super().__init__(name, **kwargs)\n"
     ]
    },
    {
     "name": "stdout",
     "output_type": "stream",
     "text": [
      "1/1 [==============================] - 1s 527ms/step - loss: 1.8063 - accuracy: 0.5191 - val_loss: 1.8265 - val_accuracy: 0.4622\n",
      "4/4 [==============================] - 0s 5ms/step\n",
      "BROADFACE1WATERFLOWMEAN\n"
     ]
    },
    {
     "name": "stderr",
     "output_type": "stream",
     "text": [
      "C:\\Users\\subhi\\anaconda3\\envs\\tensorflow\\lib\\site-packages\\keras\\optimizers\\optimizer_v2\\gradient_descent.py:114: UserWarning: The `lr` argument is deprecated, use `learning_rate` instead.\n",
      "  super().__init__(name, **kwargs)\n"
     ]
    },
    {
     "name": "stdout",
     "output_type": "stream",
     "text": [
      "WARNING:tensorflow:5 out of the last 5 calls to <function Model.make_train_function.<locals>.train_function at 0x0000023B4F0789D0> triggered tf.function retracing. Tracing is expensive and the excessive number of tracings could be due to (1) creating @tf.function repeatedly in a loop, (2) passing tensors with different shapes, (3) passing Python objects instead of tensors. For (1), please define your @tf.function outside of the loop. For (2), @tf.function has reduce_retracing=True option that can avoid unnecessary retracing. For (3), please refer to https://www.tensorflow.org/guide/function#controlling_retracing and https://www.tensorflow.org/api_docs/python/tf/function for  more details.\n",
      "1/1 [==============================] - ETA: 0s - loss: 2.0798 - accuracy: 0.4809WARNING:tensorflow:5 out of the last 5 calls to <function Model.make_test_function.<locals>.test_function at 0x0000023B4F079870> triggered tf.function retracing. Tracing is expensive and the excessive number of tracings could be due to (1) creating @tf.function repeatedly in a loop, (2) passing tensors with different shapes, (3) passing Python objects instead of tensors. For (1), please define your @tf.function outside of the loop. For (2), @tf.function has reduce_retracing=True option that can avoid unnecessary retracing. For (3), please refer to https://www.tensorflow.org/guide/function#controlling_retracing and https://www.tensorflow.org/api_docs/python/tf/function for  more details.\n",
      "1/1 [==============================] - 1s 636ms/step - loss: 2.0798 - accuracy: 0.4809 - val_loss: 1.9050 - val_accuracy: 0.5294\n",
      "4/4 [==============================] - 0s 0s/step\n",
      "BROADFACE2WATERFLOWMEAN\n"
     ]
    },
    {
     "name": "stderr",
     "output_type": "stream",
     "text": [
      "C:\\Users\\subhi\\anaconda3\\envs\\tensorflow\\lib\\site-packages\\keras\\optimizers\\optimizer_v2\\gradient_descent.py:114: UserWarning: The `lr` argument is deprecated, use `learning_rate` instead.\n",
      "  super().__init__(name, **kwargs)\n"
     ]
    },
    {
     "name": "stdout",
     "output_type": "stream",
     "text": [
      "WARNING:tensorflow:6 out of the last 6 calls to <function Model.make_train_function.<locals>.train_function at 0x0000023B4F07AB00> triggered tf.function retracing. Tracing is expensive and the excessive number of tracings could be due to (1) creating @tf.function repeatedly in a loop, (2) passing tensors with different shapes, (3) passing Python objects instead of tensors. For (1), please define your @tf.function outside of the loop. For (2), @tf.function has reduce_retracing=True option that can avoid unnecessary retracing. For (3), please refer to https://www.tensorflow.org/guide/function#controlling_retracing and https://www.tensorflow.org/api_docs/python/tf/function for  more details.\n",
      "1/1 [==============================] - ETA: 0s - loss: 1.7608 - accuracy: 0.5191WARNING:tensorflow:6 out of the last 6 calls to <function Model.make_test_function.<locals>.test_function at 0x0000023B4F079000> triggered tf.function retracing. Tracing is expensive and the excessive number of tracings could be due to (1) creating @tf.function repeatedly in a loop, (2) passing tensors with different shapes, (3) passing Python objects instead of tensors. For (1), please define your @tf.function outside of the loop. For (2), @tf.function has reduce_retracing=True option that can avoid unnecessary retracing. For (3), please refer to https://www.tensorflow.org/guide/function#controlling_retracing and https://www.tensorflow.org/api_docs/python/tf/function for  more details.\n",
      "1/1 [==============================] - 1s 530ms/step - loss: 1.7608 - accuracy: 0.5191 - val_loss: 1.7709 - val_accuracy: 0.4706\n",
      "4/4 [==============================] - 0s 6ms/step\n",
      "NARROWFACE1WATERFLOWMEAN\n"
     ]
    },
    {
     "name": "stderr",
     "output_type": "stream",
     "text": [
      "C:\\Users\\subhi\\anaconda3\\envs\\tensorflow\\lib\\site-packages\\keras\\optimizers\\optimizer_v2\\gradient_descent.py:114: UserWarning: The `lr` argument is deprecated, use `learning_rate` instead.\n",
      "  super().__init__(name, **kwargs)\n"
     ]
    },
    {
     "name": "stdout",
     "output_type": "stream",
     "text": [
      "1/1 [==============================] - 1s 675ms/step - loss: 2.2739 - accuracy: 0.4809 - val_loss: 2.1191 - val_accuracy: 0.5210\n",
      "4/4 [==============================] - 0s 0s/step\n",
      "NARROWFACE2WATERFLOWMEAN\n"
     ]
    },
    {
     "name": "stderr",
     "output_type": "stream",
     "text": [
      "C:\\Users\\subhi\\anaconda3\\envs\\tensorflow\\lib\\site-packages\\keras\\optimizers\\optimizer_v2\\gradient_descent.py:114: UserWarning: The `lr` argument is deprecated, use `learning_rate` instead.\n",
      "  super().__init__(name, **kwargs)\n"
     ]
    },
    {
     "name": "stdout",
     "output_type": "stream",
     "text": [
      "1/1 [==============================] - 1s 597ms/step - loss: 1.8726 - accuracy: 0.5064 - val_loss: 2.0075 - val_accuracy: 0.4622\n",
      "4/4 [==============================] - 0s 0s/step\n",
      "MOLDBROADFACE1INLETOUTLETWATERTEMP.DELTAMEAN\n"
     ]
    },
    {
     "name": "stderr",
     "output_type": "stream",
     "text": [
      "C:\\Users\\subhi\\anaconda3\\envs\\tensorflow\\lib\\site-packages\\keras\\optimizers\\optimizer_v2\\gradient_descent.py:114: UserWarning: The `lr` argument is deprecated, use `learning_rate` instead.\n",
      "  super().__init__(name, **kwargs)\n"
     ]
    },
    {
     "name": "stdout",
     "output_type": "stream",
     "text": [
      "1/1 [==============================] - 1s 667ms/step - loss: 1.8165 - accuracy: 0.5191 - val_loss: 1.8843 - val_accuracy: 0.3613\n",
      "4/4 [==============================] - 0s 6ms/step\n",
      "MOLDBROADFACE2INLETOUTLETWATERTEMP.DELTAMEAN\n"
     ]
    },
    {
     "name": "stderr",
     "output_type": "stream",
     "text": [
      "C:\\Users\\subhi\\anaconda3\\envs\\tensorflow\\lib\\site-packages\\keras\\optimizers\\optimizer_v2\\gradient_descent.py:114: UserWarning: The `lr` argument is deprecated, use `learning_rate` instead.\n",
      "  super().__init__(name, **kwargs)\n"
     ]
    },
    {
     "name": "stdout",
     "output_type": "stream",
     "text": [
      "1/1 [==============================] - 0s 471ms/step - loss: 1.8443 - accuracy: 0.4746 - val_loss: 1.8515 - val_accuracy: 0.3782\n",
      "4/4 [==============================] - 0s 5ms/step\n",
      "MOLDNARROWFACE1INLETOUTLETWATERTEMP.DELTAMEAN\n"
     ]
    },
    {
     "name": "stderr",
     "output_type": "stream",
     "text": [
      "C:\\Users\\subhi\\anaconda3\\envs\\tensorflow\\lib\\site-packages\\keras\\optimizers\\optimizer_v2\\gradient_descent.py:114: UserWarning: The `lr` argument is deprecated, use `learning_rate` instead.\n",
      "  super().__init__(name, **kwargs)\n"
     ]
    },
    {
     "name": "stdout",
     "output_type": "stream",
     "text": [
      "1/1 [==============================] - 0s 455ms/step - loss: 1.8703 - accuracy: 0.4958 - val_loss: 1.8188 - val_accuracy: 0.5630\n",
      "4/4 [==============================] - 0s 5ms/step\n",
      "MOLDNARROWFACE2INLETOUTLETWATERTEMP.DELTAMEAN\n"
     ]
    },
    {
     "name": "stderr",
     "output_type": "stream",
     "text": [
      "C:\\Users\\subhi\\anaconda3\\envs\\tensorflow\\lib\\site-packages\\keras\\optimizers\\optimizer_v2\\gradient_descent.py:114: UserWarning: The `lr` argument is deprecated, use `learning_rate` instead.\n",
      "  super().__init__(name, **kwargs)\n"
     ]
    },
    {
     "name": "stdout",
     "output_type": "stream",
     "text": [
      "1/1 [==============================] - 1s 549ms/step - loss: 1.8353 - accuracy: 0.5191 - val_loss: 1.8923 - val_accuracy: 0.4790\n",
      "4/4 [==============================] - 0s 0s/step\n",
      "MOLDBROADFACECOOLINGWATERINLETTEMPMEAN\n"
     ]
    },
    {
     "name": "stderr",
     "output_type": "stream",
     "text": [
      "C:\\Users\\subhi\\anaconda3\\envs\\tensorflow\\lib\\site-packages\\keras\\optimizers\\optimizer_v2\\gradient_descent.py:114: UserWarning: The `lr` argument is deprecated, use `learning_rate` instead.\n",
      "  super().__init__(name, **kwargs)\n"
     ]
    },
    {
     "name": "stdout",
     "output_type": "stream",
     "text": [
      "1/1 [==============================] - 1s 738ms/step - loss: 1.7399 - accuracy: 0.4979 - val_loss: 1.7168 - val_accuracy: 0.4958\n",
      "4/4 [==============================] - 0s 5ms/step\n",
      "MOLDNARROWFACECOOLINGWATERINLETTEMPMEAN\n"
     ]
    },
    {
     "name": "stderr",
     "output_type": "stream",
     "text": [
      "C:\\Users\\subhi\\anaconda3\\envs\\tensorflow\\lib\\site-packages\\keras\\optimizers\\optimizer_v2\\gradient_descent.py:114: UserWarning: The `lr` argument is deprecated, use `learning_rate` instead.\n",
      "  super().__init__(name, **kwargs)\n"
     ]
    },
    {
     "name": "stdout",
     "output_type": "stream",
     "text": [
      "1/1 [==============================] - 0s 471ms/step - loss: 2.2796 - accuracy: 0.5106 - val_loss: 2.2959 - val_accuracy: 0.4790\n",
      "4/4 [==============================] - 0s 3ms/step\n",
      "MOLDBROADFACECOOLINGWATERINLETPRESSMEAN\n"
     ]
    },
    {
     "name": "stderr",
     "output_type": "stream",
     "text": [
      "C:\\Users\\subhi\\anaconda3\\envs\\tensorflow\\lib\\site-packages\\keras\\optimizers\\optimizer_v2\\gradient_descent.py:114: UserWarning: The `lr` argument is deprecated, use `learning_rate` instead.\n",
      "  super().__init__(name, **kwargs)\n"
     ]
    },
    {
     "name": "stdout",
     "output_type": "stream",
     "text": [
      "1/1 [==============================] - 0s 473ms/step - loss: 1.6403 - accuracy: 0.5064 - val_loss: 1.6451 - val_accuracy: 0.4286\n",
      "4/4 [==============================] - 0s 5ms/step\n",
      "MOLDNARROWFACECOOLINGWATERINLETPRESSMEAN\n"
     ]
    },
    {
     "name": "stderr",
     "output_type": "stream",
     "text": [
      "C:\\Users\\subhi\\anaconda3\\envs\\tensorflow\\lib\\site-packages\\keras\\optimizers\\optimizer_v2\\gradient_descent.py:114: UserWarning: The `lr` argument is deprecated, use `learning_rate` instead.\n",
      "  super().__init__(name, **kwargs)\n"
     ]
    },
    {
     "name": "stdout",
     "output_type": "stream",
     "text": [
      "1/1 [==============================] - 0s 457ms/step - loss: 2.6801 - accuracy: 0.5191 - val_loss: 2.8239 - val_accuracy: 0.5126\n",
      "4/4 [==============================] - 0s 0s/step\n",
      "BROADFACE1HEATFLUXMEAN\n"
     ]
    },
    {
     "name": "stderr",
     "output_type": "stream",
     "text": [
      "C:\\Users\\subhi\\anaconda3\\envs\\tensorflow\\lib\\site-packages\\keras\\optimizers\\optimizer_v2\\gradient_descent.py:114: UserWarning: The `lr` argument is deprecated, use `learning_rate` instead.\n",
      "  super().__init__(name, **kwargs)\n"
     ]
    },
    {
     "name": "stdout",
     "output_type": "stream",
     "text": [
      "1/1 [==============================] - 1s 706ms/step - loss: 1.6230 - accuracy: 0.4809 - val_loss: 1.6233 - val_accuracy: 0.5294\n",
      "4/4 [==============================] - 0s 5ms/step\n",
      "BROADFACE2HEATFLUXMEAN\n"
     ]
    },
    {
     "name": "stderr",
     "output_type": "stream",
     "text": [
      "C:\\Users\\subhi\\anaconda3\\envs\\tensorflow\\lib\\site-packages\\keras\\optimizers\\optimizer_v2\\gradient_descent.py:114: UserWarning: The `lr` argument is deprecated, use `learning_rate` instead.\n",
      "  super().__init__(name, **kwargs)\n"
     ]
    },
    {
     "name": "stdout",
     "output_type": "stream",
     "text": [
      "1/1 [==============================] - 0s 454ms/step - loss: 1.8420 - accuracy: 0.5275 - val_loss: 1.8448 - val_accuracy: 0.4454\n",
      "4/4 [==============================] - 0s 0s/step\n",
      "NARROWFACE1HEATFLUXMEAN\n"
     ]
    },
    {
     "name": "stderr",
     "output_type": "stream",
     "text": [
      "C:\\Users\\subhi\\anaconda3\\envs\\tensorflow\\lib\\site-packages\\keras\\optimizers\\optimizer_v2\\gradient_descent.py:114: UserWarning: The `lr` argument is deprecated, use `learning_rate` instead.\n",
      "  super().__init__(name, **kwargs)\n"
     ]
    },
    {
     "name": "stdout",
     "output_type": "stream",
     "text": [
      "1/1 [==============================] - 0s 456ms/step - loss: 1.7551 - accuracy: 0.5191 - val_loss: 1.7812 - val_accuracy: 0.4706\n",
      "4/4 [==============================] - 0s 4ms/step\n",
      "NARROWFACE2HEATFLUXMEAN\n"
     ]
    },
    {
     "name": "stderr",
     "output_type": "stream",
     "text": [
      "C:\\Users\\subhi\\anaconda3\\envs\\tensorflow\\lib\\site-packages\\keras\\optimizers\\optimizer_v2\\gradient_descent.py:114: UserWarning: The `lr` argument is deprecated, use `learning_rate` instead.\n",
      "  super().__init__(name, **kwargs)\n"
     ]
    },
    {
     "name": "stdout",
     "output_type": "stream",
     "text": [
      "1/1 [==============================] - 0s 471ms/step - loss: 1.8498 - accuracy: 0.5106 - val_loss: 1.8467 - val_accuracy: 0.5462\n",
      "4/4 [==============================] - 0s 5ms/step\n",
      "OVERALLHEATFLUXMEAN\n"
     ]
    },
    {
     "name": "stderr",
     "output_type": "stream",
     "text": [
      "C:\\Users\\subhi\\anaconda3\\envs\\tensorflow\\lib\\site-packages\\keras\\optimizers\\optimizer_v2\\gradient_descent.py:114: UserWarning: The `lr` argument is deprecated, use `learning_rate` instead.\n",
      "  super().__init__(name, **kwargs)\n"
     ]
    },
    {
     "name": "stdout",
     "output_type": "stream",
     "text": [
      "1/1 [==============================] - 0s 455ms/step - loss: 1.7621 - accuracy: 0.4597 - val_loss: 1.7527 - val_accuracy: 0.5042\n",
      "4/4 [==============================] - 0s 0s/step\n",
      "FOOTROLLWATERFLOWACTUALMEAN\n"
     ]
    },
    {
     "name": "stderr",
     "output_type": "stream",
     "text": [
      "C:\\Users\\subhi\\anaconda3\\envs\\tensorflow\\lib\\site-packages\\keras\\optimizers\\optimizer_v2\\gradient_descent.py:114: UserWarning: The `lr` argument is deprecated, use `learning_rate` instead.\n",
      "  super().__init__(name, **kwargs)\n"
     ]
    },
    {
     "name": "stdout",
     "output_type": "stream",
     "text": [
      "1/1 [==============================] - 0s 455ms/step - loss: 1.7401 - accuracy: 0.5191 - val_loss: 1.7465 - val_accuracy: 0.4706\n",
      "4/4 [==============================] - 0s 5ms/step\n",
      "NARROWFACESECONDARYCOOLINGWATERFLOWACTUALMEAN\n"
     ]
    },
    {
     "name": "stderr",
     "output_type": "stream",
     "text": [
      "C:\\Users\\subhi\\anaconda3\\envs\\tensorflow\\lib\\site-packages\\keras\\optimizers\\optimizer_v2\\gradient_descent.py:114: UserWarning: The `lr` argument is deprecated, use `learning_rate` instead.\n",
      "  super().__init__(name, **kwargs)\n"
     ]
    },
    {
     "name": "stdout",
     "output_type": "stream",
     "text": [
      "1/1 [==============================] - 0s 456ms/step - loss: 2.0681 - accuracy: 0.4174 - val_loss: 1.9543 - val_accuracy: 0.4202\n",
      "4/4 [==============================] - 0s 0s/step\n",
      "SEG0ASECONDARYCOOLINGWATERFLOWACTUALMEAN\n"
     ]
    },
    {
     "name": "stderr",
     "output_type": "stream",
     "text": [
      "C:\\Users\\subhi\\anaconda3\\envs\\tensorflow\\lib\\site-packages\\keras\\optimizers\\optimizer_v2\\gradient_descent.py:114: UserWarning: The `lr` argument is deprecated, use `learning_rate` instead.\n",
      "  super().__init__(name, **kwargs)\n"
     ]
    },
    {
     "name": "stdout",
     "output_type": "stream",
     "text": [
      "1/1 [==============================] - 1s 548ms/step - loss: 1.6694 - accuracy: 0.5191 - val_loss: 1.6663 - val_accuracy: 0.4706\n",
      "4/4 [==============================] - 0s 5ms/step\n",
      "SEG0BSECONDARYCOOLINGWATERFLOWACTUALMEAN\n"
     ]
    },
    {
     "name": "stderr",
     "output_type": "stream",
     "text": [
      "C:\\Users\\subhi\\anaconda3\\envs\\tensorflow\\lib\\site-packages\\keras\\optimizers\\optimizer_v2\\gradient_descent.py:114: UserWarning: The `lr` argument is deprecated, use `learning_rate` instead.\n",
      "  super().__init__(name, **kwargs)\n"
     ]
    },
    {
     "name": "stdout",
     "output_type": "stream",
     "text": [
      "1/1 [==============================] - 1s 503ms/step - loss: 1.9573 - accuracy: 0.5191 - val_loss: 1.9631 - val_accuracy: 0.4706\n",
      "4/4 [==============================] - 0s 5ms/step\n",
      "SEG1TOPSECONDARYCOOLINGWATERFLOWACTUALMEAN\n"
     ]
    },
    {
     "name": "stderr",
     "output_type": "stream",
     "text": [
      "C:\\Users\\subhi\\anaconda3\\envs\\tensorflow\\lib\\site-packages\\keras\\optimizers\\optimizer_v2\\gradient_descent.py:114: UserWarning: The `lr` argument is deprecated, use `learning_rate` instead.\n",
      "  super().__init__(name, **kwargs)\n"
     ]
    },
    {
     "name": "stdout",
     "output_type": "stream",
     "text": [
      "1/1 [==============================] - 1s 643ms/step - loss: 1.9984 - accuracy: 0.4089 - val_loss: 1.9651 - val_accuracy: 0.4622\n",
      "4/4 [==============================] - 0s 5ms/step\n",
      "SEG1BOTSECONDARYCOOLINGWATERFLOWACTUALMEAN\n"
     ]
    },
    {
     "name": "stderr",
     "output_type": "stream",
     "text": [
      "C:\\Users\\subhi\\anaconda3\\envs\\tensorflow\\lib\\site-packages\\keras\\optimizers\\optimizer_v2\\gradient_descent.py:114: UserWarning: The `lr` argument is deprecated, use `learning_rate` instead.\n",
      "  super().__init__(name, **kwargs)\n"
     ]
    },
    {
     "name": "stdout",
     "output_type": "stream",
     "text": [
      "1/1 [==============================] - 1s 805ms/step - loss: 2.2163 - accuracy: 0.5996 - val_loss: 2.2842 - val_accuracy: 0.5462\n",
      "4/4 [==============================] - 0s 0s/step\n",
      "SEG2TOPSECONDARYCOOLINGWATERFLOWACTUALMEAN\n"
     ]
    },
    {
     "name": "stderr",
     "output_type": "stream",
     "text": [
      "C:\\Users\\subhi\\anaconda3\\envs\\tensorflow\\lib\\site-packages\\keras\\optimizers\\optimizer_v2\\gradient_descent.py:114: UserWarning: The `lr` argument is deprecated, use `learning_rate` instead.\n",
      "  super().__init__(name, **kwargs)\n"
     ]
    },
    {
     "name": "stdout",
     "output_type": "stream",
     "text": [
      "1/1 [==============================] - 1s 988ms/step - loss: 2.0609 - accuracy: 0.4216 - val_loss: 2.0547 - val_accuracy: 0.4622\n",
      "4/4 [==============================] - 0s 0s/step\n",
      "SEG2BOTTOMSECONDARYCOOLINGWATERFLOWACTUALMEAN\n"
     ]
    },
    {
     "name": "stderr",
     "output_type": "stream",
     "text": [
      "C:\\Users\\subhi\\anaconda3\\envs\\tensorflow\\lib\\site-packages\\keras\\optimizers\\optimizer_v2\\gradient_descent.py:114: UserWarning: The `lr` argument is deprecated, use `learning_rate` instead.\n",
      "  super().__init__(name, **kwargs)\n"
     ]
    },
    {
     "name": "stdout",
     "output_type": "stream",
     "text": [
      "1/1 [==============================] - 1s 646ms/step - loss: 2.0133 - accuracy: 0.4809 - val_loss: 1.9895 - val_accuracy: 0.5210\n",
      "4/4 [==============================] - 0s 0s/step\n",
      "SEG3+4TOPSECONDARYCOOLINGWATERFLOWACTUALMEAN\n"
     ]
    },
    {
     "name": "stderr",
     "output_type": "stream",
     "text": [
      "C:\\Users\\subhi\\anaconda3\\envs\\tensorflow\\lib\\site-packages\\keras\\optimizers\\optimizer_v2\\gradient_descent.py:114: UserWarning: The `lr` argument is deprecated, use `learning_rate` instead.\n",
      "  super().__init__(name, **kwargs)\n"
     ]
    },
    {
     "name": "stdout",
     "output_type": "stream",
     "text": [
      "1/1 [==============================] - 0s 454ms/step - loss: 1.9721 - accuracy: 0.4809 - val_loss: 1.9299 - val_accuracy: 0.5294\n",
      "4/4 [==============================] - 0s 0s/step\n",
      "SEG3+4BOTTOMSECONDARYCOOLINGWATERFLOWACTUALMEAN\n"
     ]
    },
    {
     "name": "stderr",
     "output_type": "stream",
     "text": [
      "C:\\Users\\subhi\\anaconda3\\envs\\tensorflow\\lib\\site-packages\\keras\\optimizers\\optimizer_v2\\gradient_descent.py:114: UserWarning: The `lr` argument is deprecated, use `learning_rate` instead.\n",
      "  super().__init__(name, **kwargs)\n"
     ]
    },
    {
     "name": "stdout",
     "output_type": "stream",
     "text": [
      "1/1 [==============================] - 0s 455ms/step - loss: 1.7919 - accuracy: 0.5191 - val_loss: 1.7959 - val_accuracy: 0.4706\n",
      "4/4 [==============================] - 0s 0s/step\n",
      "SEG5+6TOPSECONDARYCOOLINGWATERFLOWACTUALMEAN\n"
     ]
    },
    {
     "name": "stderr",
     "output_type": "stream",
     "text": [
      "C:\\Users\\subhi\\anaconda3\\envs\\tensorflow\\lib\\site-packages\\keras\\optimizers\\optimizer_v2\\gradient_descent.py:114: UserWarning: The `lr` argument is deprecated, use `learning_rate` instead.\n",
      "  super().__init__(name, **kwargs)\n"
     ]
    },
    {
     "name": "stdout",
     "output_type": "stream",
     "text": [
      "1/1 [==============================] - 0s 466ms/step - loss: 1.4719 - accuracy: 0.5657 - val_loss: 1.4822 - val_accuracy: 0.5630\n",
      "4/4 [==============================] - 0s 5ms/step\n",
      "SEG5+6BOTTOMSECONDARYCOOLINGWATERFLOWACTUALMEAN\n"
     ]
    },
    {
     "name": "stderr",
     "output_type": "stream",
     "text": [
      "C:\\Users\\subhi\\anaconda3\\envs\\tensorflow\\lib\\site-packages\\keras\\optimizers\\optimizer_v2\\gradient_descent.py:114: UserWarning: The `lr` argument is deprecated, use `learning_rate` instead.\n",
      "  super().__init__(name, **kwargs)\n"
     ]
    },
    {
     "name": "stdout",
     "output_type": "stream",
     "text": [
      "1/1 [==============================] - 1s 503ms/step - loss: 1.5702 - accuracy: 0.5191 - val_loss: 1.5634 - val_accuracy: 0.4706\n",
      "4/4 [==============================] - 0s 5ms/step\n",
      "SEG7+8TOPSECONDARYCOOLINGWATERFLOWACTUALMEAN\n"
     ]
    },
    {
     "name": "stderr",
     "output_type": "stream",
     "text": [
      "C:\\Users\\subhi\\anaconda3\\envs\\tensorflow\\lib\\site-packages\\keras\\optimizers\\optimizer_v2\\gradient_descent.py:114: UserWarning: The `lr` argument is deprecated, use `learning_rate` instead.\n",
      "  super().__init__(name, **kwargs)\n"
     ]
    },
    {
     "name": "stdout",
     "output_type": "stream",
     "text": [
      "1/1 [==============================] - 1s 596ms/step - loss: 1.7151 - accuracy: 0.4131 - val_loss: 1.6529 - val_accuracy: 0.4202\n",
      "4/4 [==============================] - 0s 5ms/step\n",
      "SEG7+8BOTTOMSECONDARYCOOLINGWATERFLOWACTUALMEAN\n"
     ]
    },
    {
     "name": "stderr",
     "output_type": "stream",
     "text": [
      "C:\\Users\\subhi\\anaconda3\\envs\\tensorflow\\lib\\site-packages\\keras\\optimizers\\optimizer_v2\\gradient_descent.py:114: UserWarning: The `lr` argument is deprecated, use `learning_rate` instead.\n",
      "  super().__init__(name, **kwargs)\n"
     ]
    },
    {
     "name": "stdout",
     "output_type": "stream",
     "text": [
      "1/1 [==============================] - 0s 448ms/step - loss: 1.6319 - accuracy: 0.5318 - val_loss: 1.6730 - val_accuracy: 0.4370\n",
      "4/4 [==============================] - 0s 0s/step\n",
      "SEG9+10+11+12TOPSECONDARYCOOLINGWATERFLOWACTUALMEAN\n"
     ]
    },
    {
     "name": "stderr",
     "output_type": "stream",
     "text": [
      "C:\\Users\\subhi\\anaconda3\\envs\\tensorflow\\lib\\site-packages\\keras\\optimizers\\optimizer_v2\\gradient_descent.py:114: UserWarning: The `lr` argument is deprecated, use `learning_rate` instead.\n",
      "  super().__init__(name, **kwargs)\n"
     ]
    },
    {
     "name": "stdout",
     "output_type": "stream",
     "text": [
      "1/1 [==============================] - 0s 455ms/step - loss: 1.8278 - accuracy: 0.5275 - val_loss: 1.8551 - val_accuracy: 0.4538\n",
      "4/4 [==============================] - 0s 0s/step\n",
      "SEG9+10+11+12BOTTOMSECONDARYCOOLINGWATERFLOWACTUALMEAN\n"
     ]
    },
    {
     "name": "stderr",
     "output_type": "stream",
     "text": [
      "C:\\Users\\subhi\\anaconda3\\envs\\tensorflow\\lib\\site-packages\\keras\\optimizers\\optimizer_v2\\gradient_descent.py:114: UserWarning: The `lr` argument is deprecated, use `learning_rate` instead.\n",
      "  super().__init__(name, **kwargs)\n"
     ]
    },
    {
     "name": "stdout",
     "output_type": "stream",
     "text": [
      "1/1 [==============================] - 0s 459ms/step - loss: 2.0400 - accuracy: 0.5487 - val_loss: 2.0676 - val_accuracy: 0.4538\n",
      "4/4 [==============================] - 0s 0s/step\n",
      "FOOTROLLWATERFLOWSETPOINTMEAN\n"
     ]
    },
    {
     "name": "stderr",
     "output_type": "stream",
     "text": [
      "C:\\Users\\subhi\\anaconda3\\envs\\tensorflow\\lib\\site-packages\\keras\\optimizers\\optimizer_v2\\gradient_descent.py:114: UserWarning: The `lr` argument is deprecated, use `learning_rate` instead.\n",
      "  super().__init__(name, **kwargs)\n"
     ]
    },
    {
     "name": "stdout",
     "output_type": "stream",
     "text": [
      "1/1 [==============================] - 0s 452ms/step - loss: 1.9484 - accuracy: 0.5784 - val_loss: 1.9867 - val_accuracy: 0.5966\n",
      "4/4 [==============================] - 0s 5ms/step\n",
      "NARROWFACESECONDARYCOOLINGWATERFLOWSETPOINTMEAN\n"
     ]
    },
    {
     "name": "stderr",
     "output_type": "stream",
     "text": [
      "C:\\Users\\subhi\\anaconda3\\envs\\tensorflow\\lib\\site-packages\\keras\\optimizers\\optimizer_v2\\gradient_descent.py:114: UserWarning: The `lr` argument is deprecated, use `learning_rate` instead.\n",
      "  super().__init__(name, **kwargs)\n"
     ]
    },
    {
     "name": "stdout",
     "output_type": "stream",
     "text": [
      "1/1 [==============================] - 1s 535ms/step - loss: 1.7225 - accuracy: 0.4809 - val_loss: 1.7127 - val_accuracy: 0.5294\n",
      "4/4 [==============================] - 0s 0s/step\n",
      "SEG0ASECONDARYCOOLINGWATERFLOWSETPOINTMEAN\n"
     ]
    },
    {
     "name": "stderr",
     "output_type": "stream",
     "text": [
      "C:\\Users\\subhi\\anaconda3\\envs\\tensorflow\\lib\\site-packages\\keras\\optimizers\\optimizer_v2\\gradient_descent.py:114: UserWarning: The `lr` argument is deprecated, use `learning_rate` instead.\n",
      "  super().__init__(name, **kwargs)\n"
     ]
    },
    {
     "name": "stdout",
     "output_type": "stream",
     "text": [
      "1/1 [==============================] - 0s 447ms/step - loss: 1.6315 - accuracy: 0.5742 - val_loss: 1.6767 - val_accuracy: 0.5966\n",
      "4/4 [==============================] - 0s 5ms/step\n",
      "SEG0BSECONDARYCOOLINGWATERFLOWSETPOINTMEAN\n"
     ]
    },
    {
     "name": "stderr",
     "output_type": "stream",
     "text": [
      "C:\\Users\\subhi\\anaconda3\\envs\\tensorflow\\lib\\site-packages\\keras\\optimizers\\optimizer_v2\\gradient_descent.py:114: UserWarning: The `lr` argument is deprecated, use `learning_rate` instead.\n",
      "  super().__init__(name, **kwargs)\n"
     ]
    },
    {
     "name": "stdout",
     "output_type": "stream",
     "text": [
      "1/1 [==============================] - 0s 472ms/step - loss: 1.5197 - accuracy: 0.4809 - val_loss: 1.5171 - val_accuracy: 0.5210\n",
      "4/4 [==============================] - 0s 0s/step\n",
      "SEG1TOPSECONDARYCOOLINGWATERFLOWSETPOINTMEAN\n"
     ]
    },
    {
     "name": "stderr",
     "output_type": "stream",
     "text": [
      "C:\\Users\\subhi\\anaconda3\\envs\\tensorflow\\lib\\site-packages\\keras\\optimizers\\optimizer_v2\\gradient_descent.py:114: UserWarning: The `lr` argument is deprecated, use `learning_rate` instead.\n",
      "  super().__init__(name, **kwargs)\n"
     ]
    },
    {
     "name": "stdout",
     "output_type": "stream",
     "text": [
      "1/1 [==============================] - 0s 449ms/step - loss: 1.9262 - accuracy: 0.5191 - val_loss: 1.9257 - val_accuracy: 0.4706\n",
      "4/4 [==============================] - 0s 5ms/step\n",
      "SEG1BOTTOMSECONDARYCOOLINGWATERFLOWSETPOINTMEAN\n"
     ]
    },
    {
     "name": "stderr",
     "output_type": "stream",
     "text": [
      "C:\\Users\\subhi\\anaconda3\\envs\\tensorflow\\lib\\site-packages\\keras\\optimizers\\optimizer_v2\\gradient_descent.py:114: UserWarning: The `lr` argument is deprecated, use `learning_rate` instead.\n",
      "  super().__init__(name, **kwargs)\n"
     ]
    },
    {
     "name": "stdout",
     "output_type": "stream",
     "text": [
      "1/1 [==============================] - 0s 456ms/step - loss: 2.0566 - accuracy: 0.4301 - val_loss: 1.9536 - val_accuracy: 0.4118\n",
      "4/4 [==============================] - 0s 0s/step\n",
      "SEG2TOPSECONDARYCOOLINGWATERFLOWSETPOINTMEAN\n"
     ]
    },
    {
     "name": "stderr",
     "output_type": "stream",
     "text": [
      "C:\\Users\\subhi\\anaconda3\\envs\\tensorflow\\lib\\site-packages\\keras\\optimizers\\optimizer_v2\\gradient_descent.py:114: UserWarning: The `lr` argument is deprecated, use `learning_rate` instead.\n",
      "  super().__init__(name, **kwargs)\n"
     ]
    },
    {
     "name": "stdout",
     "output_type": "stream",
     "text": [
      "1/1 [==============================] - 0s 452ms/step - loss: 1.6819 - accuracy: 0.4809 - val_loss: 1.6761 - val_accuracy: 0.5294\n",
      "4/4 [==============================] - 0s 5ms/step\n",
      "SEG2BOTTOMSECONDARYCOOLINGWATERFLOWSETPOINTMEAN\n"
     ]
    },
    {
     "name": "stderr",
     "output_type": "stream",
     "text": [
      "C:\\Users\\subhi\\anaconda3\\envs\\tensorflow\\lib\\site-packages\\keras\\optimizers\\optimizer_v2\\gradient_descent.py:114: UserWarning: The `lr` argument is deprecated, use `learning_rate` instead.\n",
      "  super().__init__(name, **kwargs)\n"
     ]
    },
    {
     "name": "stdout",
     "output_type": "stream",
     "text": [
      "1/1 [==============================] - 0s 456ms/step - loss: 2.0516 - accuracy: 0.4216 - val_loss: 2.0334 - val_accuracy: 0.4286\n",
      "4/4 [==============================] - 0s 4ms/step\n",
      "SEG3+4TOPSECONDARYCOOLINGWATERFLOWSETPOINTMEAN\n"
     ]
    },
    {
     "name": "stderr",
     "output_type": "stream",
     "text": [
      "C:\\Users\\subhi\\anaconda3\\envs\\tensorflow\\lib\\site-packages\\keras\\optimizers\\optimizer_v2\\gradient_descent.py:114: UserWarning: The `lr` argument is deprecated, use `learning_rate` instead.\n",
      "  super().__init__(name, **kwargs)\n"
     ]
    },
    {
     "name": "stdout",
     "output_type": "stream",
     "text": [
      "1/1 [==============================] - 0s 457ms/step - loss: 1.7842 - accuracy: 0.5191 - val_loss: 1.7857 - val_accuracy: 0.4706\n",
      "4/4 [==============================] - 0s 5ms/step\n",
      "SEG3+4BOTTOMSECONDARYCOOLINGWATERFLOWSETPOINTMEAN\n"
     ]
    },
    {
     "name": "stderr",
     "output_type": "stream",
     "text": [
      "C:\\Users\\subhi\\anaconda3\\envs\\tensorflow\\lib\\site-packages\\keras\\optimizers\\optimizer_v2\\gradient_descent.py:114: UserWarning: The `lr` argument is deprecated, use `learning_rate` instead.\n",
      "  super().__init__(name, **kwargs)\n"
     ]
    },
    {
     "name": "stdout",
     "output_type": "stream",
     "text": [
      "1/1 [==============================] - 0s 439ms/step - loss: 1.7425 - accuracy: 0.4428 - val_loss: 1.7375 - val_accuracy: 0.4370\n",
      "4/4 [==============================] - 0s 0s/step\n",
      "SEG5+6TOPSECONDARYCOOLINGWATERFLOWSETPOINTMEAN\n"
     ]
    },
    {
     "name": "stderr",
     "output_type": "stream",
     "text": [
      "C:\\Users\\subhi\\anaconda3\\envs\\tensorflow\\lib\\site-packages\\keras\\optimizers\\optimizer_v2\\gradient_descent.py:114: UserWarning: The `lr` argument is deprecated, use `learning_rate` instead.\n",
      "  super().__init__(name, **kwargs)\n"
     ]
    },
    {
     "name": "stdout",
     "output_type": "stream",
     "text": [
      "1/1 [==============================] - 0s 446ms/step - loss: 2.2261 - accuracy: 0.5191 - val_loss: 2.2164 - val_accuracy: 0.4706\n",
      "4/4 [==============================] - 0s 5ms/step\n",
      "SEG5+6BOTTOMSECONDARYCOOLINGWATERFLOWSETPOINTMEAN\n"
     ]
    },
    {
     "name": "stderr",
     "output_type": "stream",
     "text": [
      "C:\\Users\\subhi\\anaconda3\\envs\\tensorflow\\lib\\site-packages\\keras\\optimizers\\optimizer_v2\\gradient_descent.py:114: UserWarning: The `lr` argument is deprecated, use `learning_rate` instead.\n",
      "  super().__init__(name, **kwargs)\n"
     ]
    },
    {
     "name": "stdout",
     "output_type": "stream",
     "text": [
      "1/1 [==============================] - 1s 518ms/step - loss: 1.9611 - accuracy: 0.4428 - val_loss: 1.9520 - val_accuracy: 0.4370\n",
      "4/4 [==============================] - 0s 0s/step\n",
      "SEG7+8TOPSECONDARYCOOLINGWATERFLOWSETPOINTMEAN\n"
     ]
    },
    {
     "name": "stderr",
     "output_type": "stream",
     "text": [
      "C:\\Users\\subhi\\anaconda3\\envs\\tensorflow\\lib\\site-packages\\keras\\optimizers\\optimizer_v2\\gradient_descent.py:114: UserWarning: The `lr` argument is deprecated, use `learning_rate` instead.\n",
      "  super().__init__(name, **kwargs)\n"
     ]
    },
    {
     "name": "stdout",
     "output_type": "stream",
     "text": [
      "1/1 [==============================] - 1s 614ms/step - loss: 2.1741 - accuracy: 0.5784 - val_loss: 2.2251 - val_accuracy: 0.5714\n",
      "4/4 [==============================] - 0s 3ms/step\n",
      "SEG7+8BOTTOMSECONDARYCOOLINGWATERFLOWSETPOINTMEAN\n"
     ]
    },
    {
     "name": "stderr",
     "output_type": "stream",
     "text": [
      "C:\\Users\\subhi\\anaconda3\\envs\\tensorflow\\lib\\site-packages\\keras\\optimizers\\optimizer_v2\\gradient_descent.py:114: UserWarning: The `lr` argument is deprecated, use `learning_rate` instead.\n",
      "  super().__init__(name, **kwargs)\n"
     ]
    },
    {
     "name": "stdout",
     "output_type": "stream",
     "text": [
      "1/1 [==============================] - 1s 534ms/step - loss: 1.6432 - accuracy: 0.5191 - val_loss: 1.6595 - val_accuracy: 0.4622\n",
      "4/4 [==============================] - 0s 5ms/step\n",
      "SEG9+10+11+12TOPSECONDARYCOOLINGWATERFLOWSETPOINTMEAN\n"
     ]
    },
    {
     "name": "stderr",
     "output_type": "stream",
     "text": [
      "C:\\Users\\subhi\\anaconda3\\envs\\tensorflow\\lib\\site-packages\\keras\\optimizers\\optimizer_v2\\gradient_descent.py:114: UserWarning: The `lr` argument is deprecated, use `learning_rate` instead.\n",
      "  super().__init__(name, **kwargs)\n"
     ]
    },
    {
     "name": "stdout",
     "output_type": "stream",
     "text": [
      "1/1 [==============================] - 1s 596ms/step - loss: 1.6552 - accuracy: 0.4809 - val_loss: 1.6545 - val_accuracy: 0.5126\n",
      "4/4 [==============================] - 0s 0s/step\n",
      "SEG9+10+11+12BOTTOMSECONDARYCOOLINGWATERFLOWSETPOINTMEAN\n"
     ]
    },
    {
     "name": "stderr",
     "output_type": "stream",
     "text": [
      "C:\\Users\\subhi\\anaconda3\\envs\\tensorflow\\lib\\site-packages\\keras\\optimizers\\optimizer_v2\\gradient_descent.py:114: UserWarning: The `lr` argument is deprecated, use `learning_rate` instead.\n",
      "  super().__init__(name, **kwargs)\n"
     ]
    },
    {
     "name": "stdout",
     "output_type": "stream",
     "text": [
      "1/1 [==============================] - 0s 472ms/step - loss: 1.6947 - accuracy: 0.4809 - val_loss: 1.6827 - val_accuracy: 0.5294\n",
      "4/4 [==============================] - 0s 0s/step\n",
      "SEG13+14TOPSECONDARYCOOLINGWATERFLOWSETPOINTMEAN\n"
     ]
    },
    {
     "name": "stderr",
     "output_type": "stream",
     "text": [
      "C:\\Users\\subhi\\anaconda3\\envs\\tensorflow\\lib\\site-packages\\keras\\optimizers\\optimizer_v2\\gradient_descent.py:114: UserWarning: The `lr` argument is deprecated, use `learning_rate` instead.\n",
      "  super().__init__(name, **kwargs)\n"
     ]
    },
    {
     "name": "stdout",
     "output_type": "stream",
     "text": [
      "1/1 [==============================] - 0s 452ms/step - loss: 3.6953 - accuracy: 0.5742 - val_loss: 1.9509 - val_accuracy: 0.5378\n",
      "4/4 [==============================] - 0s 5ms/step\n",
      "SEG13+14BOTTOMSECONDARYCOOLINGWATERFLOWSETPOINTMEAN\n"
     ]
    },
    {
     "name": "stderr",
     "output_type": "stream",
     "text": [
      "C:\\Users\\subhi\\anaconda3\\envs\\tensorflow\\lib\\site-packages\\keras\\optimizers\\optimizer_v2\\gradient_descent.py:114: UserWarning: The `lr` argument is deprecated, use `learning_rate` instead.\n",
      "  super().__init__(name, **kwargs)\n"
     ]
    },
    {
     "name": "stdout",
     "output_type": "stream",
     "text": [
      "1/1 [==============================] - 0s 486ms/step - loss: 7.0491 - accuracy: 0.4258 - val_loss: 4.3668 - val_accuracy: 0.4034\n",
      "4/4 [==============================] - 0s 2ms/step\n",
      "SEG15TOPSECONDARYCOOLINGWATERFLOWSETPOINTMEAN\n"
     ]
    },
    {
     "name": "stderr",
     "output_type": "stream",
     "text": [
      "C:\\Users\\subhi\\anaconda3\\envs\\tensorflow\\lib\\site-packages\\keras\\optimizers\\optimizer_v2\\gradient_descent.py:114: UserWarning: The `lr` argument is deprecated, use `learning_rate` instead.\n",
      "  super().__init__(name, **kwargs)\n"
     ]
    },
    {
     "name": "stdout",
     "output_type": "stream",
     "text": [
      "1/1 [==============================] - 0s 440ms/step - loss: 2.4283 - accuracy: 0.4301 - val_loss: 1.7601 - val_accuracy: 0.4706\n",
      "4/4 [==============================] - 0s 0s/step\n",
      "SEG15BOTTOMSECONDARYCOOLINGWATERFLOWSETPOINTMEAN\n"
     ]
    },
    {
     "name": "stderr",
     "output_type": "stream",
     "text": [
      "C:\\Users\\subhi\\anaconda3\\envs\\tensorflow\\lib\\site-packages\\keras\\optimizers\\optimizer_v2\\gradient_descent.py:114: UserWarning: The `lr` argument is deprecated, use `learning_rate` instead.\n",
      "  super().__init__(name, **kwargs)\n"
     ]
    },
    {
     "name": "stdout",
     "output_type": "stream",
     "text": [
      "1/1 [==============================] - 0s 471ms/step - loss: 3.3102 - accuracy: 0.4809 - val_loss: 1.9617 - val_accuracy: 0.5714\n",
      "4/4 [==============================] - 0s 2ms/step\n",
      "FOOTROLLWATERPRESSUREACTUALMEAN\n"
     ]
    },
    {
     "name": "stderr",
     "output_type": "stream",
     "text": [
      "C:\\Users\\subhi\\anaconda3\\envs\\tensorflow\\lib\\site-packages\\keras\\optimizers\\optimizer_v2\\gradient_descent.py:114: UserWarning: The `lr` argument is deprecated, use `learning_rate` instead.\n",
      "  super().__init__(name, **kwargs)\n"
     ]
    },
    {
     "name": "stdout",
     "output_type": "stream",
     "text": [
      "1/1 [==============================] - 0s 456ms/step - loss: 1.9736 - accuracy: 0.6038 - val_loss: 1.8693 - val_accuracy: 0.5546\n",
      "4/4 [==============================] - 0s 5ms/step\n",
      "NARROWFACESECONDARYCOOLINGWATERPRESSUREACTUALMEAN\n"
     ]
    },
    {
     "name": "stderr",
     "output_type": "stream",
     "text": [
      "C:\\Users\\subhi\\anaconda3\\envs\\tensorflow\\lib\\site-packages\\keras\\optimizers\\optimizer_v2\\gradient_descent.py:114: UserWarning: The `lr` argument is deprecated, use `learning_rate` instead.\n",
      "  super().__init__(name, **kwargs)\n"
     ]
    },
    {
     "name": "stdout",
     "output_type": "stream",
     "text": [
      "1/1 [==============================] - 0s 440ms/step - loss: 1.6221 - accuracy: 0.4809 - val_loss: 1.6055 - val_accuracy: 0.5294\n",
      "4/4 [==============================] - 0s 0s/step\n",
      "SEG0ASECONDARYCOOLINGWATERPRESSUREACTUALMEAN\n"
     ]
    },
    {
     "name": "stderr",
     "output_type": "stream",
     "text": [
      "C:\\Users\\subhi\\anaconda3\\envs\\tensorflow\\lib\\site-packages\\keras\\optimizers\\optimizer_v2\\gradient_descent.py:114: UserWarning: The `lr` argument is deprecated, use `learning_rate` instead.\n",
      "  super().__init__(name, **kwargs)\n"
     ]
    },
    {
     "name": "stdout",
     "output_type": "stream",
     "text": [
      "1/1 [==============================] - 0s 455ms/step - loss: 1.6740 - accuracy: 0.4555 - val_loss: 1.6728 - val_accuracy: 0.4706\n",
      "4/4 [==============================] - 0s 3ms/step\n",
      "SEG0BSECONDARYCOOLINGWATERPRESSUREACTUALMEAN\n"
     ]
    },
    {
     "name": "stderr",
     "output_type": "stream",
     "text": [
      "C:\\Users\\subhi\\anaconda3\\envs\\tensorflow\\lib\\site-packages\\keras\\optimizers\\optimizer_v2\\gradient_descent.py:114: UserWarning: The `lr` argument is deprecated, use `learning_rate` instead.\n",
      "  super().__init__(name, **kwargs)\n"
     ]
    },
    {
     "name": "stdout",
     "output_type": "stream",
     "text": [
      "1/1 [==============================] - 1s 577ms/step - loss: 2.0966 - accuracy: 0.3962 - val_loss: 2.1090 - val_accuracy: 0.4202\n",
      "4/4 [==============================] - 0s 0s/step\n",
      "SEG1TOPSECONDARYCOOLINGWATERPRESSUREACTUALMEAN\n"
     ]
    },
    {
     "name": "stderr",
     "output_type": "stream",
     "text": [
      "C:\\Users\\subhi\\anaconda3\\envs\\tensorflow\\lib\\site-packages\\keras\\optimizers\\optimizer_v2\\gradient_descent.py:114: UserWarning: The `lr` argument is deprecated, use `learning_rate` instead.\n",
      "  super().__init__(name, **kwargs)\n"
     ]
    },
    {
     "name": "stdout",
     "output_type": "stream",
     "text": [
      "1/1 [==============================] - 0s 440ms/step - loss: 1.8572 - accuracy: 0.5191 - val_loss: 1.8983 - val_accuracy: 0.4706\n",
      "4/4 [==============================] - 0s 0s/step\n",
      "SEG1BOTTOMSECONDARYCOOLINGWATERPRESSUREACTUALMEAN\n"
     ]
    },
    {
     "name": "stderr",
     "output_type": "stream",
     "text": [
      "C:\\Users\\subhi\\anaconda3\\envs\\tensorflow\\lib\\site-packages\\keras\\optimizers\\optimizer_v2\\gradient_descent.py:114: UserWarning: The `lr` argument is deprecated, use `learning_rate` instead.\n",
      "  super().__init__(name, **kwargs)\n"
     ]
    },
    {
     "name": "stdout",
     "output_type": "stream",
     "text": [
      "1/1 [==============================] - 0s 472ms/step - loss: 2.1034 - accuracy: 0.5742 - val_loss: 2.1596 - val_accuracy: 0.5546\n",
      "4/4 [==============================] - 0s 0s/step\n",
      "SEG2TOPSECONDARYCOOLINGWATERPRESSUREACTUALMEAN\n"
     ]
    },
    {
     "name": "stderr",
     "output_type": "stream",
     "text": [
      "C:\\Users\\subhi\\anaconda3\\envs\\tensorflow\\lib\\site-packages\\keras\\optimizers\\optimizer_v2\\gradient_descent.py:114: UserWarning: The `lr` argument is deprecated, use `learning_rate` instead.\n",
      "  super().__init__(name, **kwargs)\n"
     ]
    },
    {
     "name": "stdout",
     "output_type": "stream",
     "text": [
      "1/1 [==============================] - 0s 456ms/step - loss: 2.0084 - accuracy: 0.5784 - val_loss: 2.0604 - val_accuracy: 0.5378\n",
      "4/4 [==============================] - 0s 2ms/step\n",
      "SEG2BOTTOMSECONDARYCOOLINGWATERPRESSUREACTUALMEAN\n"
     ]
    },
    {
     "name": "stderr",
     "output_type": "stream",
     "text": [
      "C:\\Users\\subhi\\anaconda3\\envs\\tensorflow\\lib\\site-packages\\keras\\optimizers\\optimizer_v2\\gradient_descent.py:114: UserWarning: The `lr` argument is deprecated, use `learning_rate` instead.\n",
      "  super().__init__(name, **kwargs)\n"
     ]
    },
    {
     "name": "stdout",
     "output_type": "stream",
     "text": [
      "1/1 [==============================] - 0s 455ms/step - loss: 1.8623 - accuracy: 0.5191 - val_loss: 1.8740 - val_accuracy: 0.4706\n",
      "4/4 [==============================] - 0s 0s/step\n",
      "SEG3+4TOPSECONDARYCOOLINGWATERPRESSUREACTUALMEAN\n"
     ]
    },
    {
     "name": "stderr",
     "output_type": "stream",
     "text": [
      "C:\\Users\\subhi\\anaconda3\\envs\\tensorflow\\lib\\site-packages\\keras\\optimizers\\optimizer_v2\\gradient_descent.py:114: UserWarning: The `lr` argument is deprecated, use `learning_rate` instead.\n",
      "  super().__init__(name, **kwargs)\n"
     ]
    },
    {
     "name": "stdout",
     "output_type": "stream",
     "text": [
      "1/1 [==============================] - 0s 455ms/step - loss: 1.7614 - accuracy: 0.4809 - val_loss: 1.6617 - val_accuracy: 0.5294\n",
      "4/4 [==============================] - 0s 0s/step\n",
      "SEG3+4BOTTOMSECONDARYCOOLINGWATERPRESSUREACTUALMEAN\n"
     ]
    },
    {
     "name": "stderr",
     "output_type": "stream",
     "text": [
      "C:\\Users\\subhi\\anaconda3\\envs\\tensorflow\\lib\\site-packages\\keras\\optimizers\\optimizer_v2\\gradient_descent.py:114: UserWarning: The `lr` argument is deprecated, use `learning_rate` instead.\n",
      "  super().__init__(name, **kwargs)\n"
     ]
    },
    {
     "name": "stdout",
     "output_type": "stream",
     "text": [
      "1/1 [==============================] - 0s 455ms/step - loss: 2.1594 - accuracy: 0.5403 - val_loss: 2.2581 - val_accuracy: 0.4874\n",
      "4/4 [==============================] - 0s 0s/step\n",
      "SEG5+6TOPSECONDARYCOOLINGWATERPRESSUREACTUALMEAN\n"
     ]
    },
    {
     "name": "stderr",
     "output_type": "stream",
     "text": [
      "C:\\Users\\subhi\\anaconda3\\envs\\tensorflow\\lib\\site-packages\\keras\\optimizers\\optimizer_v2\\gradient_descent.py:114: UserWarning: The `lr` argument is deprecated, use `learning_rate` instead.\n",
      "  super().__init__(name, **kwargs)\n"
     ]
    },
    {
     "name": "stdout",
     "output_type": "stream",
     "text": [
      "1/1 [==============================] - 0s 454ms/step - loss: 1.5993 - accuracy: 0.5403 - val_loss: 1.6127 - val_accuracy: 0.4790\n",
      "4/4 [==============================] - 0s 0s/step\n",
      "SEG5+6BOTTOMSECONDARYCOOLINGWATERPRESSUREACTUALMEAN\n"
     ]
    },
    {
     "name": "stderr",
     "output_type": "stream",
     "text": [
      "C:\\Users\\subhi\\anaconda3\\envs\\tensorflow\\lib\\site-packages\\keras\\optimizers\\optimizer_v2\\gradient_descent.py:114: UserWarning: The `lr` argument is deprecated, use `learning_rate` instead.\n",
      "  super().__init__(name, **kwargs)\n"
     ]
    },
    {
     "name": "stdout",
     "output_type": "stream",
     "text": [
      "1/1 [==============================] - 0s 455ms/step - loss: 1.8712 - accuracy: 0.5487 - val_loss: 1.8993 - val_accuracy: 0.5294\n",
      "4/4 [==============================] - 0s 0s/step\n",
      "SEG7+8TOPSECONDARYCOOLINGWATERPRESSUREACTUALMEAN\n"
     ]
    },
    {
     "name": "stderr",
     "output_type": "stream",
     "text": [
      "C:\\Users\\subhi\\anaconda3\\envs\\tensorflow\\lib\\site-packages\\keras\\optimizers\\optimizer_v2\\gradient_descent.py:114: UserWarning: The `lr` argument is deprecated, use `learning_rate` instead.\n",
      "  super().__init__(name, **kwargs)\n"
     ]
    },
    {
     "name": "stdout",
     "output_type": "stream",
     "text": [
      "1/1 [==============================] - 0s 450ms/step - loss: 1.7797 - accuracy: 0.5191 - val_loss: 1.8379 - val_accuracy: 0.4706\n",
      "4/4 [==============================] - 0s 5ms/step\n",
      "SEG7+8BOTTOMSECONDARYCOOLINGWATERPRESSUREACTUALMEAN\n"
     ]
    },
    {
     "name": "stderr",
     "output_type": "stream",
     "text": [
      "C:\\Users\\subhi\\anaconda3\\envs\\tensorflow\\lib\\site-packages\\keras\\optimizers\\optimizer_v2\\gradient_descent.py:114: UserWarning: The `lr` argument is deprecated, use `learning_rate` instead.\n",
      "  super().__init__(name, **kwargs)\n"
     ]
    },
    {
     "name": "stdout",
     "output_type": "stream",
     "text": [
      "1/1 [==============================] - 0s 455ms/step - loss: 1.8710 - accuracy: 0.4809 - val_loss: 1.8657 - val_accuracy: 0.5294\n",
      "4/4 [==============================] - 0s 5ms/step\n",
      "STEELLEVELINMOLD-SETMEAN\n"
     ]
    },
    {
     "name": "stderr",
     "output_type": "stream",
     "text": [
      "C:\\Users\\subhi\\anaconda3\\envs\\tensorflow\\lib\\site-packages\\keras\\optimizers\\optimizer_v2\\gradient_descent.py:114: UserWarning: The `lr` argument is deprecated, use `learning_rate` instead.\n",
      "  super().__init__(name, **kwargs)\n"
     ]
    },
    {
     "name": "stdout",
     "output_type": "stream",
     "text": [
      "1/1 [==============================] - 0s 455ms/step - loss: 97.1823 - accuracy: 0.4809 - val_loss: 659.0875 - val_accuracy: 0.4538\n",
      "4/4 [==============================] - 0s 1ms/step\n",
      "STEELLEVELINMOLD-ACTMEAN\n"
     ]
    },
    {
     "name": "stderr",
     "output_type": "stream",
     "text": [
      "C:\\Users\\subhi\\anaconda3\\envs\\tensorflow\\lib\\site-packages\\keras\\optimizers\\optimizer_v2\\gradient_descent.py:114: UserWarning: The `lr` argument is deprecated, use `learning_rate` instead.\n",
      "  super().__init__(name, **kwargs)\n"
     ]
    },
    {
     "name": "stdout",
     "output_type": "stream",
     "text": [
      "1/1 [==============================] - 1s 598ms/step - loss: 5.1451 - accuracy: 0.4809 - val_loss: 3.1302 - val_accuracy: 0.5210\n",
      "4/4 [==============================] - 0s 5ms/step\n",
      "MOLDWIDTHTOPMEAN\n"
     ]
    },
    {
     "name": "stderr",
     "output_type": "stream",
     "text": [
      "C:\\Users\\subhi\\anaconda3\\envs\\tensorflow\\lib\\site-packages\\keras\\optimizers\\optimizer_v2\\gradient_descent.py:114: UserWarning: The `lr` argument is deprecated, use `learning_rate` instead.\n",
      "  super().__init__(name, **kwargs)\n"
     ]
    },
    {
     "name": "stdout",
     "output_type": "stream",
     "text": [
      "1/1 [==============================] - 1s 549ms/step - loss: 1.7174 - accuracy: 0.5297 - val_loss: 1.7160 - val_accuracy: 0.5294\n",
      "4/4 [==============================] - 0s 5ms/step\n",
      "MOLDWIDTHBOTMEAN\n"
     ]
    },
    {
     "name": "stderr",
     "output_type": "stream",
     "text": [
      "C:\\Users\\subhi\\anaconda3\\envs\\tensorflow\\lib\\site-packages\\keras\\optimizers\\optimizer_v2\\gradient_descent.py:114: UserWarning: The `lr` argument is deprecated, use `learning_rate` instead.\n",
      "  super().__init__(name, **kwargs)\n"
     ]
    },
    {
     "name": "stdout",
     "output_type": "stream",
     "text": [
      "1/1 [==============================] - 1s 538ms/step - loss: 1.6701 - accuracy: 0.5487 - val_loss: 1.6621 - val_accuracy: 0.4706\n",
      "4/4 [==============================] - 0s 0s/step\n",
      "SLABWIDTHMEAN\n"
     ]
    },
    {
     "name": "stderr",
     "output_type": "stream",
     "text": [
      "C:\\Users\\subhi\\anaconda3\\envs\\tensorflow\\lib\\site-packages\\keras\\optimizers\\optimizer_v2\\gradient_descent.py:114: UserWarning: The `lr` argument is deprecated, use `learning_rate` instead.\n",
      "  super().__init__(name, **kwargs)\n"
     ]
    },
    {
     "name": "stdout",
     "output_type": "stream",
     "text": [
      "1/1 [==============================] - 1s 598ms/step - loss: 1.6897 - accuracy: 0.5487 - val_loss: 1.6841 - val_accuracy: 0.5294\n",
      "4/4 [==============================] - 0s 3ms/step\n",
      "LIQUIDUSTEMPMEAN\n"
     ]
    },
    {
     "name": "stderr",
     "output_type": "stream",
     "text": [
      "C:\\Users\\subhi\\anaconda3\\envs\\tensorflow\\lib\\site-packages\\keras\\optimizers\\optimizer_v2\\gradient_descent.py:114: UserWarning: The `lr` argument is deprecated, use `learning_rate` instead.\n",
      "  super().__init__(name, **kwargs)\n"
     ]
    },
    {
     "name": "stdout",
     "output_type": "stream",
     "text": [
      "1/1 [==============================] - 0s 440ms/step - loss: 2.0050 - accuracy: 0.4725 - val_loss: 1.9423 - val_accuracy: 0.4790\n",
      "4/4 [==============================] - 0s 0s/step\n",
      "SUPERHEATMEAN\n"
     ]
    },
    {
     "name": "stderr",
     "output_type": "stream",
     "text": [
      "C:\\Users\\subhi\\anaconda3\\envs\\tensorflow\\lib\\site-packages\\keras\\optimizers\\optimizer_v2\\gradient_descent.py:114: UserWarning: The `lr` argument is deprecated, use `learning_rate` instead.\n",
      "  super().__init__(name, **kwargs)\n"
     ]
    },
    {
     "name": "stdout",
     "output_type": "stream",
     "text": [
      "1/1 [==============================] - 0s 453ms/step - loss: 1.7371 - accuracy: 0.5191 - val_loss: 1.8209 - val_accuracy: 0.4706\n",
      "4/4 [==============================] - 0s 0s/step\n",
      "MOLDTAPERPERCENTMEAN\n"
     ]
    },
    {
     "name": "stderr",
     "output_type": "stream",
     "text": [
      "C:\\Users\\subhi\\anaconda3\\envs\\tensorflow\\lib\\site-packages\\keras\\optimizers\\optimizer_v2\\gradient_descent.py:114: UserWarning: The `lr` argument is deprecated, use `learning_rate` instead.\n",
      "  super().__init__(name, **kwargs)\n"
     ]
    },
    {
     "name": "stdout",
     "output_type": "stream",
     "text": [
      "1/1 [==============================] - 0s 440ms/step - loss: 1.8166 - accuracy: 0.4703 - val_loss: 1.7344 - val_accuracy: 0.5378\n",
      "4/4 [==============================] - 0s 0s/step\n",
      "MOLDOSCFREQMEAN\n"
     ]
    },
    {
     "name": "stderr",
     "output_type": "stream",
     "text": [
      "C:\\Users\\subhi\\anaconda3\\envs\\tensorflow\\lib\\site-packages\\keras\\optimizers\\optimizer_v2\\gradient_descent.py:114: UserWarning: The `lr` argument is deprecated, use `learning_rate` instead.\n",
      "  super().__init__(name, **kwargs)\n"
     ]
    },
    {
     "name": "stdout",
     "output_type": "stream",
     "text": [
      "1/1 [==============================] - 0s 439ms/step - loss: 1.9154 - accuracy: 0.5657 - val_loss: 1.9610 - val_accuracy: 0.4874\n",
      "4/4 [==============================] - 0s 0s/step\n",
      "STRANDDRIVECURRENTMEAN\n"
     ]
    },
    {
     "name": "stderr",
     "output_type": "stream",
     "text": [
      "C:\\Users\\subhi\\anaconda3\\envs\\tensorflow\\lib\\site-packages\\keras\\optimizers\\optimizer_v2\\gradient_descent.py:114: UserWarning: The `lr` argument is deprecated, use `learning_rate` instead.\n",
      "  super().__init__(name, **kwargs)\n"
     ]
    },
    {
     "name": "stdout",
     "output_type": "stream",
     "text": [
      "1/1 [==============================] - 0s 458ms/step - loss: 1.6063 - accuracy: 0.5191 - val_loss: 1.5803 - val_accuracy: 0.4874\n",
      "4/4 [==============================] - 0s 0s/step\n",
      "PER_ALMEAN\n"
     ]
    },
    {
     "name": "stderr",
     "output_type": "stream",
     "text": [
      "C:\\Users\\subhi\\anaconda3\\envs\\tensorflow\\lib\\site-packages\\keras\\optimizers\\optimizer_v2\\gradient_descent.py:114: UserWarning: The `lr` argument is deprecated, use `learning_rate` instead.\n",
      "  super().__init__(name, **kwargs)\n"
     ]
    },
    {
     "name": "stdout",
     "output_type": "stream",
     "text": [
      "1/1 [==============================] - 0s 440ms/step - loss: 2.0524 - accuracy: 0.5191 - val_loss: 2.0824 - val_accuracy: 0.4622\n",
      "4/4 [==============================] - 0s 3ms/step\n",
      "PER_CMEAN\n"
     ]
    },
    {
     "name": "stderr",
     "output_type": "stream",
     "text": [
      "C:\\Users\\subhi\\anaconda3\\envs\\tensorflow\\lib\\site-packages\\keras\\optimizers\\optimizer_v2\\gradient_descent.py:114: UserWarning: The `lr` argument is deprecated, use `learning_rate` instead.\n",
      "  super().__init__(name, **kwargs)\n"
     ]
    },
    {
     "name": "stdout",
     "output_type": "stream",
     "text": [
      "1/1 [==============================] - 0s 458ms/step - loss: 2.0518 - accuracy: 0.5191 - val_loss: 2.0477 - val_accuracy: 0.4706\n",
      "4/4 [==============================] - 0s 5ms/step\n",
      "PER_CAMEAN\n"
     ]
    },
    {
     "name": "stderr",
     "output_type": "stream",
     "text": [
      "C:\\Users\\subhi\\anaconda3\\envs\\tensorflow\\lib\\site-packages\\keras\\optimizers\\optimizer_v2\\gradient_descent.py:114: UserWarning: The `lr` argument is deprecated, use `learning_rate` instead.\n",
      "  super().__init__(name, **kwargs)\n"
     ]
    },
    {
     "name": "stdout",
     "output_type": "stream",
     "text": [
      "1/1 [==============================] - 0s 471ms/step - loss: 1.5188 - accuracy: 0.5191 - val_loss: 1.5040 - val_accuracy: 0.4874\n",
      "4/4 [==============================] - 0s 5ms/step\n",
      "PER_NBMEAN\n"
     ]
    },
    {
     "name": "stderr",
     "output_type": "stream",
     "text": [
      "C:\\Users\\subhi\\anaconda3\\envs\\tensorflow\\lib\\site-packages\\keras\\optimizers\\optimizer_v2\\gradient_descent.py:114: UserWarning: The `lr` argument is deprecated, use `learning_rate` instead.\n",
      "  super().__init__(name, **kwargs)\n"
     ]
    },
    {
     "name": "stdout",
     "output_type": "stream",
     "text": [
      "1/1 [==============================] - 0s 441ms/step - loss: 1.8893 - accuracy: 0.4809 - val_loss: 1.8458 - val_accuracy: 0.5294\n",
      "4/4 [==============================] - 0s 1ms/step\n",
      "PER_CRMEAN\n"
     ]
    },
    {
     "name": "stderr",
     "output_type": "stream",
     "text": [
      "C:\\Users\\subhi\\anaconda3\\envs\\tensorflow\\lib\\site-packages\\keras\\optimizers\\optimizer_v2\\gradient_descent.py:114: UserWarning: The `lr` argument is deprecated, use `learning_rate` instead.\n",
      "  super().__init__(name, **kwargs)\n"
     ]
    },
    {
     "name": "stdout",
     "output_type": "stream",
     "text": [
      "1/1 [==============================] - 0s 455ms/step - loss: 1.7787 - accuracy: 0.5191 - val_loss: 1.7726 - val_accuracy: 0.4706\n",
      "4/4 [==============================] - 0s 0s/step\n",
      "PER_CUMEAN\n"
     ]
    },
    {
     "name": "stderr",
     "output_type": "stream",
     "text": [
      "C:\\Users\\subhi\\anaconda3\\envs\\tensorflow\\lib\\site-packages\\keras\\optimizers\\optimizer_v2\\gradient_descent.py:114: UserWarning: The `lr` argument is deprecated, use `learning_rate` instead.\n",
      "  super().__init__(name, **kwargs)\n"
     ]
    },
    {
     "name": "stdout",
     "output_type": "stream",
     "text": [
      "1/1 [==============================] - 0s 456ms/step - loss: 1.7157 - accuracy: 0.5148 - val_loss: 1.7517 - val_accuracy: 0.5462\n",
      "4/4 [==============================] - 0s 6ms/step\n",
      "PER_MNMEAN\n"
     ]
    },
    {
     "name": "stderr",
     "output_type": "stream",
     "text": [
      "C:\\Users\\subhi\\anaconda3\\envs\\tensorflow\\lib\\site-packages\\keras\\optimizers\\optimizer_v2\\gradient_descent.py:114: UserWarning: The `lr` argument is deprecated, use `learning_rate` instead.\n",
      "  super().__init__(name, **kwargs)\n"
     ]
    },
    {
     "name": "stdout",
     "output_type": "stream",
     "text": [
      "1/1 [==============================] - 0s 453ms/step - loss: 1.8741 - accuracy: 0.5191 - val_loss: 1.8782 - val_accuracy: 0.4622\n",
      "4/4 [==============================] - 0s 5ms/step\n",
      "PER_MOMEAN\n"
     ]
    },
    {
     "name": "stderr",
     "output_type": "stream",
     "text": [
      "C:\\Users\\subhi\\anaconda3\\envs\\tensorflow\\lib\\site-packages\\keras\\optimizers\\optimizer_v2\\gradient_descent.py:114: UserWarning: The `lr` argument is deprecated, use `learning_rate` instead.\n",
      "  super().__init__(name, **kwargs)\n"
     ]
    },
    {
     "name": "stdout",
     "output_type": "stream",
     "text": [
      "1/1 [==============================] - 1s 534ms/step - loss: 1.5322 - accuracy: 0.4555 - val_loss: 1.5448 - val_accuracy: 0.3782\n",
      "4/4 [==============================] - 0s 0s/step\n",
      "PER_NMEAN\n"
     ]
    },
    {
     "name": "stderr",
     "output_type": "stream",
     "text": [
      "C:\\Users\\subhi\\anaconda3\\envs\\tensorflow\\lib\\site-packages\\keras\\optimizers\\optimizer_v2\\gradient_descent.py:114: UserWarning: The `lr` argument is deprecated, use `learning_rate` instead.\n",
      "  super().__init__(name, **kwargs)\n"
     ]
    },
    {
     "name": "stdout",
     "output_type": "stream",
     "text": [
      "1/1 [==============================] - 0s 455ms/step - loss: 2.1322 - accuracy: 0.4979 - val_loss: 2.1668 - val_accuracy: 0.4874\n",
      "4/4 [==============================] - 0s 0s/step\n",
      "PER_NIMEAN\n"
     ]
    },
    {
     "name": "stderr",
     "output_type": "stream",
     "text": [
      "C:\\Users\\subhi\\anaconda3\\envs\\tensorflow\\lib\\site-packages\\keras\\optimizers\\optimizer_v2\\gradient_descent.py:114: UserWarning: The `lr` argument is deprecated, use `learning_rate` instead.\n",
      "  super().__init__(name, **kwargs)\n"
     ]
    },
    {
     "name": "stdout",
     "output_type": "stream",
     "text": [
      "1/1 [==============================] - 0s 471ms/step - loss: 1.6218 - accuracy: 0.5191 - val_loss: 1.6367 - val_accuracy: 0.4706\n",
      "4/4 [==============================] - 0s 5ms/step\n",
      "PER_PMEAN\n"
     ]
    },
    {
     "name": "stderr",
     "output_type": "stream",
     "text": [
      "C:\\Users\\subhi\\anaconda3\\envs\\tensorflow\\lib\\site-packages\\keras\\optimizers\\optimizer_v2\\gradient_descent.py:114: UserWarning: The `lr` argument is deprecated, use `learning_rate` instead.\n",
      "  super().__init__(name, **kwargs)\n"
     ]
    },
    {
     "name": "stdout",
     "output_type": "stream",
     "text": [
      "1/1 [==============================] - 0s 475ms/step - loss: 1.6889 - accuracy: 0.5805 - val_loss: 1.6737 - val_accuracy: 0.5546\n",
      "4/4 [==============================] - 0s 0s/step\n",
      "PER_SMEAN\n"
     ]
    },
    {
     "name": "stderr",
     "output_type": "stream",
     "text": [
      "C:\\Users\\subhi\\anaconda3\\envs\\tensorflow\\lib\\site-packages\\keras\\optimizers\\optimizer_v2\\gradient_descent.py:114: UserWarning: The `lr` argument is deprecated, use `learning_rate` instead.\n",
      "  super().__init__(name, **kwargs)\n"
     ]
    },
    {
     "name": "stdout",
     "output_type": "stream",
     "text": [
      "1/1 [==============================] - 0s 473ms/step - loss: 1.9928 - accuracy: 0.4852 - val_loss: 1.9524 - val_accuracy: 0.5210\n",
      "4/4 [==============================] - 0s 0s/step\n",
      "PER_SIMEAN\n"
     ]
    },
    {
     "name": "stderr",
     "output_type": "stream",
     "text": [
      "C:\\Users\\subhi\\anaconda3\\envs\\tensorflow\\lib\\site-packages\\keras\\optimizers\\optimizer_v2\\gradient_descent.py:114: UserWarning: The `lr` argument is deprecated, use `learning_rate` instead.\n",
      "  super().__init__(name, **kwargs)\n"
     ]
    },
    {
     "name": "stdout",
     "output_type": "stream",
     "text": [
      "1/1 [==============================] - 0s 457ms/step - loss: 2.4115 - accuracy: 0.5191 - val_loss: 2.4854 - val_accuracy: 0.4706\n",
      "4/4 [==============================] - 0s 1ms/step\n",
      "PER_TIMEAN\n"
     ]
    },
    {
     "name": "stderr",
     "output_type": "stream",
     "text": [
      "C:\\Users\\subhi\\anaconda3\\envs\\tensorflow\\lib\\site-packages\\keras\\optimizers\\optimizer_v2\\gradient_descent.py:114: UserWarning: The `lr` argument is deprecated, use `learning_rate` instead.\n",
      "  super().__init__(name, **kwargs)\n"
     ]
    },
    {
     "name": "stdout",
     "output_type": "stream",
     "text": [
      "1/1 [==============================] - 0s 456ms/step - loss: 1.5492 - accuracy: 0.4852 - val_loss: 1.5194 - val_accuracy: 0.5546\n",
      "4/4 [==============================] - 0s 0s/step\n",
      "PER_VMEAN\n"
     ]
    },
    {
     "name": "stderr",
     "output_type": "stream",
     "text": [
      "C:\\Users\\subhi\\anaconda3\\envs\\tensorflow\\lib\\site-packages\\keras\\optimizers\\optimizer_v2\\gradient_descent.py:114: UserWarning: The `lr` argument is deprecated, use `learning_rate` instead.\n",
      "  super().__init__(name, **kwargs)\n"
     ]
    },
    {
     "name": "stdout",
     "output_type": "stream",
     "text": [
      "1/1 [==============================] - 0s 477ms/step - loss: 4.3685 - accuracy: 0.5403 - val_loss: 2.5322 - val_accuracy: 0.5378\n",
      "4/4 [==============================] - 0s 5ms/step\n",
      "DAYSAFTERSHUTDOWNMEAN\n"
     ]
    },
    {
     "name": "stderr",
     "output_type": "stream",
     "text": [
      "C:\\Users\\subhi\\anaconda3\\envs\\tensorflow\\lib\\site-packages\\keras\\optimizers\\optimizer_v2\\gradient_descent.py:114: UserWarning: The `lr` argument is deprecated, use `learning_rate` instead.\n",
      "  super().__init__(name, **kwargs)\n"
     ]
    },
    {
     "name": "stdout",
     "output_type": "stream",
     "text": [
      "1/1 [==============================] - 0s 471ms/step - loss: 1.8003 - accuracy: 0.5085 - val_loss: 1.7742 - val_accuracy: 0.5714\n",
      "4/4 [==============================] - 0s 0s/step\n",
      "DAYSAFTERNARROWFACEALIGNMENTMEAN\n"
     ]
    },
    {
     "name": "stderr",
     "output_type": "stream",
     "text": [
      "C:\\Users\\subhi\\anaconda3\\envs\\tensorflow\\lib\\site-packages\\keras\\optimizers\\optimizer_v2\\gradient_descent.py:114: UserWarning: The `lr` argument is deprecated, use `learning_rate` instead.\n",
      "  super().__init__(name, **kwargs)\n"
     ]
    },
    {
     "name": "stdout",
     "output_type": "stream",
     "text": [
      "1/1 [==============================] - 1s 661ms/step - loss: 2.0232 - accuracy: 0.4809 - val_loss: 2.0103 - val_accuracy: 0.5294\n",
      "4/4 [==============================] - 0s 4ms/step\n",
      "DAYSAFTERCIRCLARDMEAN\n"
     ]
    },
    {
     "name": "stderr",
     "output_type": "stream",
     "text": [
      "C:\\Users\\subhi\\anaconda3\\envs\\tensorflow\\lib\\site-packages\\keras\\optimizers\\optimizer_v2\\gradient_descent.py:114: UserWarning: The `lr` argument is deprecated, use `learning_rate` instead.\n",
      "  super().__init__(name, **kwargs)\n"
     ]
    },
    {
     "name": "stdout",
     "output_type": "stream",
     "text": [
      "1/1 [==============================] - 0s 497ms/step - loss: 1.9387 - accuracy: 0.5339 - val_loss: 1.8338 - val_accuracy: 0.5630\n",
      "4/4 [==============================] - 0s 0s/step\n",
      "DAYSAFTERSPRAYCLEANINGMEAN\n"
     ]
    },
    {
     "name": "stderr",
     "output_type": "stream",
     "text": [
      "C:\\Users\\subhi\\anaconda3\\envs\\tensorflow\\lib\\site-packages\\keras\\optimizers\\optimizer_v2\\gradient_descent.py:114: UserWarning: The `lr` argument is deprecated, use `learning_rate` instead.\n",
      "  super().__init__(name, **kwargs)\n"
     ]
    },
    {
     "name": "stdout",
     "output_type": "stream",
     "text": [
      "1/1 [==============================] - 1s 624ms/step - loss: 1.7012 - accuracy: 0.5275 - val_loss: 1.7139 - val_accuracy: 0.5210\n",
      "4/4 [==============================] - 0s 0s/step\n",
      "PER_ALCMEAN\n"
     ]
    },
    {
     "name": "stderr",
     "output_type": "stream",
     "text": [
      "C:\\Users\\subhi\\anaconda3\\envs\\tensorflow\\lib\\site-packages\\keras\\optimizers\\optimizer_v2\\gradient_descent.py:114: UserWarning: The `lr` argument is deprecated, use `learning_rate` instead.\n",
      "  super().__init__(name, **kwargs)\n"
     ]
    },
    {
     "name": "stdout",
     "output_type": "stream",
     "text": [
      "1/1 [==============================] - 1s 503ms/step - loss: 1.9531 - accuracy: 0.5191 - val_loss: 1.9689 - val_accuracy: 0.4706\n",
      "4/4 [==============================] - 0s 0s/step\n",
      "PER_ALNMEAN\n"
     ]
    },
    {
     "name": "stderr",
     "output_type": "stream",
     "text": [
      "C:\\Users\\subhi\\anaconda3\\envs\\tensorflow\\lib\\site-packages\\keras\\optimizers\\optimizer_v2\\gradient_descent.py:114: UserWarning: The `lr` argument is deprecated, use `learning_rate` instead.\n",
      "  super().__init__(name, **kwargs)\n"
     ]
    },
    {
     "name": "stdout",
     "output_type": "stream",
     "text": [
      "1/1 [==============================] - 0s 473ms/step - loss: 2.0053 - accuracy: 0.4809 - val_loss: 2.0003 - val_accuracy: 0.5294\n",
      "4/4 [==============================] - 0s 5ms/step\n",
      "PER_NBCMEAN\n"
     ]
    },
    {
     "name": "stderr",
     "output_type": "stream",
     "text": [
      "C:\\Users\\subhi\\anaconda3\\envs\\tensorflow\\lib\\site-packages\\keras\\optimizers\\optimizer_v2\\gradient_descent.py:114: UserWarning: The `lr` argument is deprecated, use `learning_rate` instead.\n",
      "  super().__init__(name, **kwargs)\n"
     ]
    },
    {
     "name": "stdout",
     "output_type": "stream",
     "text": [
      "1/1 [==============================] - 0s 440ms/step - loss: 1.6744 - accuracy: 0.5191 - val_loss: 1.7148 - val_accuracy: 0.4874\n",
      "4/4 [==============================] - 0s 5ms/step\n",
      "PER_VNMEAN\n"
     ]
    },
    {
     "name": "stderr",
     "output_type": "stream",
     "text": [
      "C:\\Users\\subhi\\anaconda3\\envs\\tensorflow\\lib\\site-packages\\keras\\optimizers\\optimizer_v2\\gradient_descent.py:114: UserWarning: The `lr` argument is deprecated, use `learning_rate` instead.\n",
      "  super().__init__(name, **kwargs)\n"
     ]
    },
    {
     "name": "stdout",
     "output_type": "stream",
     "text": [
      "1/1 [==============================] - 0s 454ms/step - loss: 3.7128 - accuracy: 0.5191 - val_loss: 2.3064 - val_accuracy: 0.4706\n",
      "4/4 [==============================] - 0s 6ms/step\n",
      "PER_TINMEAN\n"
     ]
    },
    {
     "name": "stderr",
     "output_type": "stream",
     "text": [
      "C:\\Users\\subhi\\anaconda3\\envs\\tensorflow\\lib\\site-packages\\keras\\optimizers\\optimizer_v2\\gradient_descent.py:114: UserWarning: The `lr` argument is deprecated, use `learning_rate` instead.\n",
      "  super().__init__(name, **kwargs)\n"
     ]
    },
    {
     "name": "stdout",
     "output_type": "stream",
     "text": [
      "1/1 [==============================] - 0s 456ms/step - loss: 1.6918 - accuracy: 0.4809 - val_loss: 1.6894 - val_accuracy: 0.5462\n",
      "4/4 [==============================] - 0s 3ms/step\n",
      "PER_TICMEAN\n"
     ]
    },
    {
     "name": "stderr",
     "output_type": "stream",
     "text": [
      "C:\\Users\\subhi\\anaconda3\\envs\\tensorflow\\lib\\site-packages\\keras\\optimizers\\optimizer_v2\\gradient_descent.py:114: UserWarning: The `lr` argument is deprecated, use `learning_rate` instead.\n",
      "  super().__init__(name, **kwargs)\n"
     ]
    },
    {
     "name": "stdout",
     "output_type": "stream",
     "text": [
      "1/1 [==============================] - 0s 441ms/step - loss: 1.7401 - accuracy: 0.5445 - val_loss: 1.9236 - val_accuracy: 0.4622\n",
      "4/4 [==============================] - 0s 5ms/step\n",
      "PER_MNSMEAN\n"
     ]
    },
    {
     "name": "stderr",
     "output_type": "stream",
     "text": [
      "C:\\Users\\subhi\\anaconda3\\envs\\tensorflow\\lib\\site-packages\\keras\\optimizers\\optimizer_v2\\gradient_descent.py:114: UserWarning: The `lr` argument is deprecated, use `learning_rate` instead.\n",
      "  super().__init__(name, **kwargs)\n"
     ]
    },
    {
     "name": "stdout",
     "output_type": "stream",
     "text": [
      "1/1 [==============================] - 0s 454ms/step - loss: 1.9642 - accuracy: 0.4767 - val_loss: 1.9161 - val_accuracy: 0.4958\n",
      "4/4 [==============================] - 0s 5ms/step\n",
      "PER_VCMEAN\n"
     ]
    },
    {
     "name": "stderr",
     "output_type": "stream",
     "text": [
      "C:\\Users\\subhi\\anaconda3\\envs\\tensorflow\\lib\\site-packages\\keras\\optimizers\\optimizer_v2\\gradient_descent.py:114: UserWarning: The `lr` argument is deprecated, use `learning_rate` instead.\n",
      "  super().__init__(name, **kwargs)\n"
     ]
    },
    {
     "name": "stdout",
     "output_type": "stream",
     "text": [
      "1/1 [==============================] - 0s 439ms/step - loss: 2.1149 - accuracy: 0.4809 - val_loss: 1.7339 - val_accuracy: 0.5210\n",
      "4/4 [==============================] - 0s 5ms/step\n",
      "PER_NBNMEAN\n"
     ]
    },
    {
     "name": "stderr",
     "output_type": "stream",
     "text": [
      "C:\\Users\\subhi\\anaconda3\\envs\\tensorflow\\lib\\site-packages\\keras\\optimizers\\optimizer_v2\\gradient_descent.py:114: UserWarning: The `lr` argument is deprecated, use `learning_rate` instead.\n",
      "  super().__init__(name, **kwargs)\n"
     ]
    },
    {
     "name": "stdout",
     "output_type": "stream",
     "text": [
      "1/1 [==============================] - 0s 461ms/step - loss: 1.6961 - accuracy: 0.5191 - val_loss: 1.7413 - val_accuracy: 0.4538\n",
      "4/4 [==============================] - 0s 0s/step\n",
      "OUTPUT\n"
     ]
    },
    {
     "ename": "ValueError",
     "evalue": "cannot reshape array of size 944 into shape (472,1)",
     "output_type": "error",
     "traceback": [
      "\u001b[1;31m---------------------------------------------------------------------------\u001b[0m",
      "\u001b[1;31mValueError\u001b[0m                                Traceback (most recent call last)",
      "Cell \u001b[1;32mIn[9], line 1\u001b[0m\n\u001b[1;32m----> 1\u001b[0m selected_features,selected_features_accuracy,training_time,temp_accuracy_store,temp_model_history,history\u001b[38;5;241m=\u001b[39m\u001b[43mforward_selection\u001b[49m\u001b[43m(\u001b[49m\u001b[38;5;241;43m472\u001b[39;49m\u001b[43m)\u001b[49m\n",
      "Cell \u001b[1;32mIn[8], line 27\u001b[0m, in \u001b[0;36mforward_selection\u001b[1;34m(n_batch)\u001b[0m\n\u001b[0;32m     25\u001b[0m new_features \u001b[38;5;241m=\u001b[39m selected_features \u001b[38;5;241m+\u001b[39m [feature]\n\u001b[0;32m     26\u001b[0m \u001b[38;5;28mprint\u001b[39m(feature)\n\u001b[1;32m---> 27\u001b[0m new_accuracy,new_model_history\u001b[38;5;241m=\u001b[39m\u001b[43mtraining_data\u001b[49m\u001b[43m(\u001b[49m\u001b[43mnew_features\u001b[49m\u001b[43m,\u001b[49m\u001b[43mn_batch\u001b[49m\u001b[43m)\u001b[49m\n\u001b[0;32m     28\u001b[0m temp_accuracy_store\u001b[38;5;241m.\u001b[39mappend(new_accuracy)\n\u001b[0;32m     29\u001b[0m temp_feature_array\u001b[38;5;241m.\u001b[39mappend(feature)\n",
      "Cell \u001b[1;32mIn[7], line 21\u001b[0m, in \u001b[0;36mtraining_data\u001b[1;34m(new_features, n_batch)\u001b[0m\n\u001b[0;32m     18\u001b[0m new_test_X \u001b[38;5;241m=\u001b[39m X\u001b[38;5;241m.\u001b[39miloc[new_train_size:, :]\u001b[38;5;241m.\u001b[39mto_numpy()\u001b[38;5;241m.\u001b[39mastype(nm\u001b[38;5;241m.\u001b[39mfloat32)  \u001b[38;5;66;03m# 2D array\u001b[39;00m\n\u001b[0;32m     19\u001b[0m new_test_Y \u001b[38;5;241m=\u001b[39m new_data[\u001b[38;5;124m'\u001b[39m\u001b[38;5;124mOUTPUT\u001b[39m\u001b[38;5;124m'\u001b[39m][new_train_size:]\u001b[38;5;241m.\u001b[39mto_numpy()\u001b[38;5;241m.\u001b[39mastype(nm\u001b[38;5;241m.\u001b[39mfloat32)  \u001b[38;5;66;03m# 1D array\u001b[39;00m\n\u001b[1;32m---> 21\u001b[0m new_train_Y\u001b[38;5;241m=\u001b[39m\u001b[43mnm\u001b[49m\u001b[38;5;241;43m.\u001b[39;49m\u001b[43mreshape\u001b[49m\u001b[43m(\u001b[49m\u001b[43mnew_train_Y\u001b[49m\u001b[43m,\u001b[49m\u001b[43m(\u001b[49m\u001b[43mnew_train_Y\u001b[49m\u001b[38;5;241;43m.\u001b[39;49m\u001b[43mshape\u001b[49m\u001b[43m[\u001b[49m\u001b[38;5;241;43m0\u001b[39;49m\u001b[43m]\u001b[49m\u001b[43m,\u001b[49m\u001b[38;5;241;43m1\u001b[39;49m\u001b[43m)\u001b[49m\u001b[43m)\u001b[49m \u001b[38;5;66;03m# 2D array\u001b[39;00m\n\u001b[0;32m     23\u001b[0m new_test_Y\u001b[38;5;241m=\u001b[39mnm\u001b[38;5;241m.\u001b[39mreshape(new_test_Y,(new_test_Y\u001b[38;5;241m.\u001b[39mshape[\u001b[38;5;241m0\u001b[39m],\u001b[38;5;241m1\u001b[39m)) \u001b[38;5;66;03m# 2D array}\u001b[39;00m\n\u001b[0;32m     25\u001b[0m \u001b[38;5;66;03m#2 Scaling the data\u001b[39;00m\n",
      "File \u001b[1;32m<__array_function__ internals>:200\u001b[0m, in \u001b[0;36mreshape\u001b[1;34m(*args, **kwargs)\u001b[0m\n",
      "File \u001b[1;32m~\\anaconda3\\envs\\tensorflow\\lib\\site-packages\\numpy\\core\\fromnumeric.py:298\u001b[0m, in \u001b[0;36mreshape\u001b[1;34m(a, newshape, order)\u001b[0m\n\u001b[0;32m    198\u001b[0m \u001b[38;5;129m@array_function_dispatch\u001b[39m(_reshape_dispatcher)\n\u001b[0;32m    199\u001b[0m \u001b[38;5;28;01mdef\u001b[39;00m \u001b[38;5;21mreshape\u001b[39m(a, newshape, order\u001b[38;5;241m=\u001b[39m\u001b[38;5;124m'\u001b[39m\u001b[38;5;124mC\u001b[39m\u001b[38;5;124m'\u001b[39m):\n\u001b[0;32m    200\u001b[0m     \u001b[38;5;124;03m\"\"\"\u001b[39;00m\n\u001b[0;32m    201\u001b[0m \u001b[38;5;124;03m    Gives a new shape to an array without changing its data.\u001b[39;00m\n\u001b[0;32m    202\u001b[0m \n\u001b[1;32m   (...)\u001b[0m\n\u001b[0;32m    296\u001b[0m \u001b[38;5;124;03m           [5, 6]])\u001b[39;00m\n\u001b[0;32m    297\u001b[0m \u001b[38;5;124;03m    \"\"\"\u001b[39;00m\n\u001b[1;32m--> 298\u001b[0m     \u001b[38;5;28;01mreturn\u001b[39;00m \u001b[43m_wrapfunc\u001b[49m\u001b[43m(\u001b[49m\u001b[43ma\u001b[49m\u001b[43m,\u001b[49m\u001b[43m \u001b[49m\u001b[38;5;124;43m'\u001b[39;49m\u001b[38;5;124;43mreshape\u001b[39;49m\u001b[38;5;124;43m'\u001b[39;49m\u001b[43m,\u001b[49m\u001b[43m \u001b[49m\u001b[43mnewshape\u001b[49m\u001b[43m,\u001b[49m\u001b[43m \u001b[49m\u001b[43morder\u001b[49m\u001b[38;5;241;43m=\u001b[39;49m\u001b[43morder\u001b[49m\u001b[43m)\u001b[49m\n",
      "File \u001b[1;32m~\\anaconda3\\envs\\tensorflow\\lib\\site-packages\\numpy\\core\\fromnumeric.py:57\u001b[0m, in \u001b[0;36m_wrapfunc\u001b[1;34m(obj, method, *args, **kwds)\u001b[0m\n\u001b[0;32m     54\u001b[0m     \u001b[38;5;28;01mreturn\u001b[39;00m _wrapit(obj, method, \u001b[38;5;241m*\u001b[39margs, \u001b[38;5;241m*\u001b[39m\u001b[38;5;241m*\u001b[39mkwds)\n\u001b[0;32m     56\u001b[0m \u001b[38;5;28;01mtry\u001b[39;00m:\n\u001b[1;32m---> 57\u001b[0m     \u001b[38;5;28;01mreturn\u001b[39;00m bound(\u001b[38;5;241m*\u001b[39margs, \u001b[38;5;241m*\u001b[39m\u001b[38;5;241m*\u001b[39mkwds)\n\u001b[0;32m     58\u001b[0m \u001b[38;5;28;01mexcept\u001b[39;00m \u001b[38;5;167;01mTypeError\u001b[39;00m:\n\u001b[0;32m     59\u001b[0m     \u001b[38;5;66;03m# A TypeError occurs if the object does have such a method in its\u001b[39;00m\n\u001b[0;32m     60\u001b[0m     \u001b[38;5;66;03m# class, but its signature is not identical to that of NumPy's. This\u001b[39;00m\n\u001b[1;32m   (...)\u001b[0m\n\u001b[0;32m     64\u001b[0m     \u001b[38;5;66;03m# Call _wrapit from within the except clause to ensure a potential\u001b[39;00m\n\u001b[0;32m     65\u001b[0m     \u001b[38;5;66;03m# exception has a traceback chain.\u001b[39;00m\n\u001b[0;32m     66\u001b[0m     \u001b[38;5;28;01mreturn\u001b[39;00m _wrapit(obj, method, \u001b[38;5;241m*\u001b[39margs, \u001b[38;5;241m*\u001b[39m\u001b[38;5;241m*\u001b[39mkwds)\n",
      "\u001b[1;31mValueError\u001b[0m: cannot reshape array of size 944 into shape (472,1)"
     ]
    }
   ],
   "source": [
    "selected_features,selected_features_accuracy,training_time,temp_accuracy_store,temp_model_history,history=forward_selection(472)"
   ]
  },
  {
   "cell_type": "code",
   "execution_count": 6,
   "id": "425d666f",
   "metadata": {},
   "outputs": [
    {
     "data": {
      "text/plain": [
       "['MOLDBROADFACE2INLETOUTLETWATERTEMP.DELTAMEAN',\n",
       " 'SEG7+8BOTTOMSECONDARYCOOLINGWATERFLOWACTUALMEAN']"
      ]
     },
     "execution_count": 6,
     "metadata": {},
     "output_type": "execute_result"
    }
   ],
   "source": [
    "selected_features"
   ]
  },
  {
   "cell_type": "code",
   "execution_count": 7,
   "id": "c7b7ab88",
   "metadata": {},
   "outputs": [
    {
     "name": "stdout",
     "output_type": "stream",
     "text": [
      "34.19768991470337\n"
     ]
    }
   ],
   "source": [
    "print(training_time/60)"
   ]
  },
  {
   "cell_type": "code",
   "execution_count": 8,
   "id": "2d21fc3f",
   "metadata": {},
   "outputs": [
    {
     "data": {
      "text/plain": [
       "[0.7142857142857143, 0.7310924369747899]"
      ]
     },
     "execution_count": 8,
     "metadata": {},
     "output_type": "execute_result"
    }
   ],
   "source": [
    "selected_features_accuracy"
   ]
  },
  {
   "cell_type": "code",
   "execution_count": 9,
   "id": "2582fc85",
   "metadata": {},
   "outputs": [
    {
     "name": "stdout",
     "output_type": "stream",
     "text": [
      "Stored 'selected_features' (list)\n",
      "Stored 'selected_features_accuracy' (list)\n"
     ]
    },
    {
     "data": {
      "text/plain": [
       "['MOLDBROADFACE2INLETOUTLETWATERTEMP.DELTAMEAN',\n",
       " 'SEG7+8BOTTOMSECONDARYCOOLINGWATERFLOWACTUALMEAN']"
      ]
     },
     "execution_count": 9,
     "metadata": {},
     "output_type": "execute_result"
    }
   ],
   "source": [
    "%store selected_features\n",
    "%store selected_features_accuracy\n",
    "\n",
    "selected_features"
   ]
  },
  {
   "cell_type": "code",
   "execution_count": null,
   "id": "d822aec6",
   "metadata": {},
   "outputs": [],
   "source": [
    "str('40','59','max')"
   ]
  },
  {
   "cell_type": "code",
   "execution_count": null,
   "id": "c27836fe",
   "metadata": {},
   "outputs": [],
   "source": []
  }
 ],
 "metadata": {
  "kernelspec": {
   "display_name": "Python 3 (ipykernel)",
   "language": "python",
   "name": "python3"
  },
  "language_info": {
   "codemirror_mode": {
    "name": "ipython",
    "version": 3
   },
   "file_extension": ".py",
   "mimetype": "text/x-python",
   "name": "python",
   "nbconvert_exporter": "python",
   "pygments_lexer": "ipython3",
   "version": "3.10.9"
  }
 },
 "nbformat": 4,
 "nbformat_minor": 5
}
